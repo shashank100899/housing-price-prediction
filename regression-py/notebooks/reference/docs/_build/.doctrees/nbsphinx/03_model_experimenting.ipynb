{
 "cells": [
  {
   "cell_type": "markdown",
   "metadata": {},
   "source": [
    "# Purpose"
   ]
  },
  {
   "cell_type": "markdown",
   "metadata": {},
   "source": [
    "This notebook demonstrates the model experimentation and finalization. It covers EDA, outlier treatment, transformation, training, model evaluation and comparison across models."
   ]
  },
  {
   "cell_type": "markdown",
   "metadata": {},
   "source": [
    "## Imports"
   ]
  },
  {
   "cell_type": "code",
   "execution_count": 8,
   "metadata": {},
   "outputs": [],
   "source": [
    "import os\n",
    "import os.path as op\n",
    "import shutil\n",
    "import mlflow\n",
    "import mlflow.sklearn\n",
    "\n",
    "# standard third party imports\n",
    "import numpy as np\n",
    "import pandas as pd\n",
    "from matplotlib import pyplot as plt\n",
    "from sklearn.pipeline import Pipeline\n",
    "from sklearn.feature_selection import SelectFromModel\n",
    "from sklearn.model_selection import GridSearchCV\n",
    "from sklearn.preprocessing import FunctionTransformer\n",
    "from sklearn.compose import ColumnTransformer\n",
    "\n",
    "# impute missing values\n",
    "from sklearn.experimental import enable_iterative_imputer  # noqa\n",
    "from sklearn.impute import KNNImputer, IterativeImputer, SimpleImputer\n",
    "from sklearn.tree import DecisionTreeRegressor\n",
    "from category_encoders import TargetEncoder\n"
   ]
  },
  {
   "cell_type": "code",
   "execution_count": 9,
   "metadata": {},
   "outputs": [
    {
     "name": "stdout",
     "output_type": "stream",
     "text": [
      "The autoreload extension is already loaded. To reload it, use:\n",
      "  %reload_ext autoreload\n"
     ]
    }
   ],
   "source": [
    "%load_ext autoreload\n",
    "%autoreload 2"
   ]
  },
  {
   "cell_type": "code",
   "execution_count": 10,
   "metadata": {},
   "outputs": [],
   "source": [
    "import warnings\n",
    "\n",
    "warnings.filterwarnings('ignore', message=\"pandas.Int64Index is deprecated and will be removed from pandas in a future version. Use pandas.Index with the appropriate dtype instead.\", \n",
    "                        category=FutureWarning)\n",
    "warnings.filterwarnings('ignore', message=\"pandas.Float64Index is deprecated and will be removed from pandas in a future version. Use pandas.Index with the appropriate dtype instead.\",\n",
    "                        category=FutureWarning)"
   ]
  },
  {
   "cell_type": "code",
   "execution_count": 11,
   "metadata": {},
   "outputs": [],
   "source": [
    "# standard code-template imports\n",
    "from ta_lib.core.api import (\n",
    "    create_context, get_dataframe, get_feature_names_from_column_transformer, string_cleaning,\n",
    "    get_package_path, display_as_tabs, save_pipeline, load_pipeline, initialize_environment,\n",
    "    load_dataset, save_dataset, DEFAULT_ARTIFACTS_PATH\n",
    ")\n",
    "\n",
    "import ta_lib.eda.api as eda\n",
    "from xgboost import XGBRegressor\n",
    "from ta_lib.regression.api import SKLStatsmodelOLS\n",
    "from ta_lib.regression.api import RegressionComparison, RegressionReport\n",
    "import ta_lib.reports.api as reports\n",
    "from ta_lib.data_processing.api import Outlier\n",
    "\n",
    "initialize_environment(debug=False, hide_warnings=True)"
   ]
  },
  {
   "cell_type": "markdown",
   "metadata": {},
   "source": [
    "# Initialization"
   ]
  },
  {
   "cell_type": "code",
   "execution_count": 12,
   "metadata": {},
   "outputs": [],
   "source": [
    "artifacts_folder = DEFAULT_ARTIFACTS_PATH"
   ]
  },
  {
   "cell_type": "code",
   "execution_count": 16,
   "metadata": {},
   "outputs": [],
   "source": [
    "config_path = op.join('conf', 'config.yml')\n",
    "context = create_context(config_path)"
   ]
  },
  {
   "cell_type": "markdown",
   "metadata": {},
   "source": [
    "# 3 Feature Engineering\n",
    "\n",
    "The focus here is the `Pipeline` and not the model. Though the model would inform the pipeline that is needed to train the model, our focus is to set it up in such a way that it can be saved/loaded, tweaked for different model choices and so on."
   ]
  },
  {
   "cell_type": "markdown",
   "metadata": {},
   "source": [
    "## 3.1 Read the Train and Test Data"
   ]
  },
  {
   "cell_type": "code",
   "execution_count": 17,
   "metadata": {},
   "outputs": [
    {
     "name": "stdout",
     "output_type": "stream",
     "text": [
      "(139847, 32) (139847, 1)\n",
      "(34962, 32) (34962, 1)\n"
     ]
    }
   ],
   "source": [
    "train_X = load_dataset(context, 'train/sales/features')\n",
    "train_y = load_dataset(context, 'train/sales/target')\n",
    "print(train_X.shape, train_y.shape)\n",
    "\n",
    "test_X = load_dataset(context, 'test/sales/features')\n",
    "test_y = load_dataset(context, 'test/sales/target')\n",
    "print(test_X.shape, test_y.shape)"
   ]
  },
  {
   "cell_type": "markdown",
   "metadata": {},
   "source": [
    "## 3.2 Feature Engineering Pipelines\n"
   ]
  },
  {
   "cell_type": "markdown",
   "metadata": {},
   "source": [
    "**Dev NOTES**\n",
    "\n",
    "For Feature Engineering and Model Building sklearn.pipeline.Pipeline are leveraged because of the following advantages\n",
    "<details>\n",
    "    \n",
    "1. It helps in automating workflows and are easier to read and comprehend.\n",
    "2. Right Sequence can be ensured and (for example always encodes before imputing)\n",
    "3. Reproducibility is very convenient with pipelines\n",
    "4. Pipelines help you prevent data leakage in your test data\n",
    "5. Code is near implementation ready"
   ]
  },
  {
   "cell_type": "markdown",
   "metadata": {},
   "source": [
    "#### General Steps in the Feature Transformation are as follows\n",
    " - Outlier Treatment\n",
    " - Encoding of Categorical Columns\n",
    " - Missing Values Imputation"
   ]
  },
  {
   "cell_type": "code",
   "execution_count": 19,
   "metadata": {},
   "outputs": [],
   "source": [
    "# collecting different types of columns for transformations\n",
    "cat_columns = train_X.select_dtypes('object').columns\n",
    "num_columns = train_X.select_dtypes('number').columns"
   ]
  },
  {
   "cell_type": "markdown",
   "metadata": {},
   "source": [
    "#### Outlier Handling\n",
    "- A Custom Transformer is used to handle outliers. It is not included as part of the pipeline as outliers handling are optional for test data\n",
    "- An option to either drop or cap the outliers can be passed during the transform call\n",
    "- If we want to treat outliers for some columns them we can pass cols argument to the Transformer\n",
    "- This will go into production code"
   ]
  },
  {
   "cell_type": "code",
   "execution_count": 20,
   "metadata": {},
   "outputs": [
    {
     "name": "stdout",
     "output_type": "stream",
     "text": [
      "(139847, 32)\n",
      "(139847, 32)\n"
     ]
    }
   ],
   "source": [
    "outlier_transformer = Outlier(method='mean')\n",
    "print(train_X.shape)\n",
    "train_X = outlier_transformer.fit_transform(train_X)\n",
    "print(train_X.shape)"
   ]
  },
  {
   "cell_type": "markdown",
   "metadata": {},
   "source": [
    "#### Encoding\n"
   ]
  },
  {
   "cell_type": "markdown",
   "metadata": {},
   "source": [
    "Some sample pipelines showcasing how to create column specific pipelines and integrating them overall is presented below\n",
    "\n",
    "- Commonly target encoding is done for categorical variables with too many levels.\n",
    "- We also group sparse levels. For fewer levels one hot encoding/label encoding is preferred.\n",
    "- If there is one dominant level, we can use binary encoding.\n",
    "- This will go into production code"
   ]
  },
  {
   "cell_type": "code",
   "execution_count": 21,
   "metadata": {},
   "outputs": [],
   "source": [
    "tgt_enc_simple_impt = Pipeline([\n",
    "    ('target_encoding', TargetEncoder(return_df=False)),\n",
    "    ('simple_impute', SimpleImputer(strategy='most_frequent')),\n",
    "])\n",
    "\n",
    "\n",
    "# NOTE: the list of transformations here are not sequential but weighted \n",
    "# (if multiple transforms are specified for a particular column)\n",
    "# for sequential transforms use a pipeline as shown above.\n",
    "features_transformer = ColumnTransformer([\n",
    "    \n",
    "    ## categorical columns\n",
    "    ('tgt_enc', TargetEncoder(return_df=False),\n",
    "     list(set(cat_columns) - set(['technology', 'functional_status', 'platforms']))),\n",
    "    \n",
    "    # NOTE: if the same column gets repeated, then they are weighed in the final output\n",
    "    # If we want a sequence of operations, then we use a pipeline but that doesen't YET support\n",
    "    # get_feature_names. \n",
    "    ('tgt_enc_sim_impt', tgt_enc_simple_impt, ['technology', 'functional_status', 'platforms']),\n",
    "        \n",
    "    ## numeric columns\n",
    "    ('med_enc', SimpleImputer(strategy='median'), num_columns),\n",
    "    \n",
    "])\n"
   ]
  },
  {
   "cell_type": "markdown",
   "metadata": {},
   "source": [
    "**Dev notes(Encoding):**\n",
    "<details>\n",
    "\n",
    "    Some common practices followed in Categorical Feature Encoding are\n",
    "    * For categorical variables with too many levels, target encoding can be done.\n",
    "    * For fewer levels, one hot encoding can be done.\n",
    "    * If one very dominant level is observed, binary encoding can be used.\n",
    "    \n",
    "    \n",
    "</details>"
   ]
  },
  {
   "cell_type": "markdown",
   "metadata": {},
   "source": [
    "## 3.2 Feature analysis\n",
    "\n",
    "Using the pipeline above analyze the features and decide on additional features to add/remove from the pipeline. This section will not be part of the production code, unless input data drifts etc. are explicitly demanded in the project.\n",
    "\n",
    "Here we are primarily focused on feature selection/elimination based on business rules, prior knowledge, data analysis.\n",
    "\n",
    "**We are not building any models at this point.**\n"
   ]
  },
  {
   "cell_type": "markdown",
   "metadata": {},
   "source": [
    "- we create some sample data to analyze that we assume represent the population\n",
    "- train the features transformer and do the analysis as below"
   ]
  },
  {
   "cell_type": "code",
   "execution_count": 22,
   "metadata": {},
   "outputs": [],
   "source": [
    "sample_X = train_X.sample(frac=0.1, random_state=context.random_seed)\n",
    "sample_y = train_y.loc[sample_X.index]\n",
    "\n",
    "sample_train_X = get_dataframe(\n",
    "    features_transformer.fit_transform(sample_X, sample_y), \n",
    "    get_feature_names_from_column_transformer(features_transformer)\n",
    ")\n",
    "\n",
    "# nothing to do for target\n",
    "sample_train_y = sample_y"
   ]
  },
  {
   "cell_type": "markdown",
   "metadata": {},
   "source": [
    "Running the features transformer on the complete data"
   ]
  },
  {
   "cell_type": "code",
   "execution_count": 23,
   "metadata": {},
   "outputs": [],
   "source": [
    "train_X = get_dataframe(\n",
    "    features_transformer.fit_transform(train_X, train_y), \n",
    "    get_feature_names_from_column_transformer(features_transformer)\n",
    ")"
   ]
  },
  {
   "cell_type": "markdown",
   "metadata": {},
   "source": [
    "### 3.2.1 Univariate\n",
    "\n",
    "\n",
    "- Look at each variable independently. This is useful if your models have assumptions on the distribution and/or bounds on the features/target"
   ]
  },
  {
   "cell_type": "code",
   "execution_count": 24,
   "metadata": {},
   "outputs": [
    {
     "data": {},
     "metadata": {},
     "output_type": "display_data"
    },
    {
     "data": {
      "application/vnd.holoviews_exec.v0+json": "",
      "text/html": [
       "<div id='1002'>\n",
       "  <div class=\"bk-root\" id=\"4c9622bc-aa68-4959-ab9a-e6b8b375bb77\" data-root-id=\"1002\"></div>\n",
       "</div>\n",
       "<script type=\"application/javascript\">(function(root) {\n",
       "  function embed_document(root) {\n",
       "    var docs_json = {\"632cbe73-008c-4cb2-8a88-b5831c802b17\":{\"defs\":[{\"extends\":null,\"module\":null,\"name\":\"ReactiveHTML1\",\"overrides\":[],\"properties\":[]},{\"extends\":null,\"module\":null,\"name\":\"FlexBox1\",\"overrides\":[],\"properties\":[{\"default\":\"flex-start\",\"kind\":null,\"name\":\"align_content\"},{\"default\":\"flex-start\",\"kind\":null,\"name\":\"align_items\"},{\"default\":\"row\",\"kind\":null,\"name\":\"flex_direction\"},{\"default\":\"wrap\",\"kind\":null,\"name\":\"flex_wrap\"},{\"default\":\"flex-start\",\"kind\":null,\"name\":\"justify_content\"}]},{\"extends\":null,\"module\":null,\"name\":\"GridStack1\",\"overrides\":[],\"properties\":[{\"default\":\"warn\",\"kind\":null,\"name\":\"mode\"},{\"default\":null,\"kind\":null,\"name\":\"ncols\"},{\"default\":null,\"kind\":null,\"name\":\"nrows\"},{\"default\":true,\"kind\":null,\"name\":\"allow_resize\"},{\"default\":true,\"kind\":null,\"name\":\"allow_drag\"},{\"default\":[],\"kind\":null,\"name\":\"state\"}]},{\"extends\":null,\"module\":null,\"name\":\"click1\",\"overrides\":[],\"properties\":[{\"default\":\"\",\"kind\":null,\"name\":\"terminal_output\"},{\"default\":\"\",\"kind\":null,\"name\":\"debug_name\"},{\"default\":0,\"kind\":null,\"name\":\"clears\"}]},{\"extends\":null,\"module\":null,\"name\":\"NotificationAreaBase1\",\"overrides\":[],\"properties\":[{\"default\":\"bottom-right\",\"kind\":null,\"name\":\"position\"},{\"default\":0,\"kind\":null,\"name\":\"_clear\"}]},{\"extends\":null,\"module\":null,\"name\":\"NotificationArea1\",\"overrides\":[],\"properties\":[{\"default\":[],\"kind\":null,\"name\":\"notifications\"},{\"default\":\"bottom-right\",\"kind\":null,\"name\":\"position\"},{\"default\":0,\"kind\":null,\"name\":\"_clear\"},{\"default\":[{\"background\":\"#ffc107\",\"icon\":{\"className\":\"fas fa-exclamation-triangle\",\"color\":\"white\",\"tagName\":\"i\"},\"type\":\"warning\"},{\"background\":\"#007bff\",\"icon\":{\"className\":\"fas fa-info-circle\",\"color\":\"white\",\"tagName\":\"i\"},\"type\":\"info\"}],\"kind\":null,\"name\":\"types\"}]},{\"extends\":null,\"module\":null,\"name\":\"Notification\",\"overrides\":[],\"properties\":[{\"default\":null,\"kind\":null,\"name\":\"background\"},{\"default\":3000,\"kind\":null,\"name\":\"duration\"},{\"default\":null,\"kind\":null,\"name\":\"icon\"},{\"default\":\"\",\"kind\":null,\"name\":\"message\"},{\"default\":null,\"kind\":null,\"name\":\"notification_type\"},{\"default\":false,\"kind\":null,\"name\":\"_destroyed\"}]},{\"extends\":null,\"module\":null,\"name\":\"TemplateActions1\",\"overrides\":[],\"properties\":[{\"default\":0,\"kind\":null,\"name\":\"open_modal\"},{\"default\":0,\"kind\":null,\"name\":\"close_modal\"}]},{\"extends\":null,\"module\":null,\"name\":\"MaterialTemplateActions1\",\"overrides\":[],\"properties\":[{\"default\":0,\"kind\":null,\"name\":\"open_modal\"},{\"default\":0,\"kind\":null,\"name\":\"close_modal\"}]}],\"roots\":{\"references\":[{\"attributes\":{\"fill_alpha\":0.5,\"fill_color\":\"#30a2da\",\"hatch_color\":\"#30a2da\",\"x\":{\"field\":\"x\"},\"y\":{\"field\":\"y\"}},\"id\":\"1063\",\"type\":\"Patch\"},{\"attributes\":{},\"id\":\"1042\",\"type\":\"AllLabels\"},{\"attributes\":{},\"id\":\"1076\",\"type\":\"UnionRenderers\"},{\"attributes\":{\"margin\":[5,5,5,5],\"name\":\"HSpacer03002\",\"sizing_mode\":\"stretch_width\"},\"id\":\"1006\",\"type\":\"Spacer\"},{\"attributes\":{},\"id\":\"1027\",\"type\":\"SaveTool\"},{\"attributes\":{},\"id\":\"1396\",\"type\":\"NumberEditor\"},{\"attributes\":{\"source\":{\"id\":\"1171\"}},\"id\":\"1215\",\"type\":\"CDSView\"},{\"attributes\":{\"bottom_units\":\"screen\",\"coordinates\":null,\"fill_alpha\":0.5,\"fill_color\":\"lightgrey\",\"group\":null,\"left_units\":\"screen\",\"level\":\"overlay\",\"line_alpha\":1.0,\"line_color\":\"black\",\"line_dash\":[4,4],\"line_width\":2,\"right_units\":\"screen\",\"syncable\":false,\"top_units\":\"screen\"},\"id\":\"1032\",\"type\":\"BoxAnnotation\"},{\"attributes\":{\"format\":\"0,0.0[00000]\"},\"id\":\"1375\",\"type\":\"NumberFormatter\"},{\"attributes\":{},\"id\":\"1028\",\"type\":\"PanTool\"},{\"attributes\":{},\"id\":\"1391\",\"type\":\"NumberEditor\"},{\"attributes\":{},\"id\":\"1029\",\"type\":\"WheelZoomTool\"},{\"attributes\":{\"source\":{\"id\":\"1055\"}},\"id\":\"1062\",\"type\":\"CDSView\"},{\"attributes\":{\"toolbars\":[{\"id\":\"1033\"}],\"tools\":[{\"id\":\"1009\"},{\"id\":\"1027\"},{\"id\":\"1028\"},{\"id\":\"1029\"},{\"id\":\"1030\"},{\"id\":\"1031\"}]},\"id\":\"1235\",\"type\":\"ProxyToolbar\"},{\"attributes\":{\"overlay\":{\"id\":\"1032\"}},\"id\":\"1030\",\"type\":\"BoxZoomTool\"},{\"attributes\":{\"margin\":[5,5,5,5],\"name\":\"HSpacer03001\",\"sizing_mode\":\"stretch_width\"},\"id\":\"1003\",\"type\":\"Spacer\"},{\"attributes\":{\"editor\":{\"id\":\"1371\"},\"field\":\"mean\",\"formatter\":{\"id\":\"1370\"},\"title\":\"mean\"},\"id\":\"1372\",\"type\":\"TableColumn\"},{\"attributes\":{},\"id\":\"1031\",\"type\":\"ResetTool\"},{\"attributes\":{\"margin\":[5,5,5,5],\"name\":\"HSpacer03006\",\"sizing_mode\":\"stretch_width\"},\"id\":\"1428\",\"type\":\"Spacer\"},{\"attributes\":{\"columns\":[{\"id\":\"1367\"},{\"id\":\"1372\"},{\"id\":\"1377\"},{\"id\":\"1382\"},{\"id\":\"1387\"},{\"id\":\"1392\"},{\"id\":\"1397\"},{\"id\":\"1402\"}],\"height\":60,\"reorderable\":false,\"source\":{\"id\":\"1171\"},\"view\":{\"id\":\"1215\"}},\"id\":\"1213\",\"type\":\"DataTable\"},{\"attributes\":{\"editor\":{\"id\":\"1376\"},\"field\":\"std\",\"formatter\":{\"id\":\"1375\"},\"title\":\"std\"},\"id\":\"1377\",\"type\":\"TableColumn\"},{\"attributes\":{\"format\":\"0,0.0[00000]\"},\"id\":\"1385\",\"type\":\"NumberFormatter\"},{\"attributes\":{\"fill_alpha\":0.5,\"fill_color\":\"#30a2da\",\"hatch_alpha\":0.1,\"hatch_color\":\"#30a2da\",\"line_alpha\":1,\"x\":{\"field\":\"x\"},\"y\":{\"field\":\"y\"}},\"id\":\"1059\",\"type\":\"Patch\"},{\"attributes\":{},\"id\":\"1078\",\"type\":\"UnionRenderers\"},{\"attributes\":{\"margin\":[5,5,5,5],\"name\":\"HSpacer03003\",\"sizing_mode\":\"stretch_width\"},\"id\":\"1422\",\"type\":\"Spacer\"},{\"attributes\":{\"coordinates\":null,\"data_source\":{\"id\":\"1055\"},\"glyph\":{\"id\":\"1058\"},\"group\":null,\"hover_glyph\":null,\"muted_glyph\":{\"id\":\"1060\"},\"nonselection_glyph\":{\"id\":\"1059\"},\"selection_glyph\":{\"id\":\"1063\"},\"view\":{\"id\":\"1062\"},\"y_range_name\":\"twiny\"},\"id\":\"1061\",\"type\":\"GlyphRenderer\"},{\"attributes\":{\"editor\":{\"id\":\"1396\"},\"field\":\"A_75_percent\",\"formatter\":{\"id\":\"1395\"},\"title\":\"75%\"},\"id\":\"1397\",\"type\":\"TableColumn\"},{\"attributes\":{\"fill_alpha\":0.5,\"fill_color\":\"#30a2da\",\"hatch_color\":\"#30a2da\",\"x\":{\"field\":\"x\"},\"y\":{\"field\":\"y\"}},\"id\":\"1058\",\"type\":\"Patch\"},{\"attributes\":{},\"id\":\"1376\",\"type\":\"NumberEditor\"},{\"attributes\":{\"fill_alpha\":0.2,\"fill_color\":\"#30a2da\",\"hatch_alpha\":0.2,\"hatch_color\":\"#30a2da\",\"line_alpha\":0.2,\"x\":{\"field\":\"x\"},\"y\":{\"field\":\"y\"}},\"id\":\"1060\",\"type\":\"Patch\"},{\"attributes\":{\"format\":\"0,0.0[00000]\"},\"id\":\"1365\",\"type\":\"NumberFormatter\"},{\"attributes\":{\"margin\":[5,5,5,5],\"name\":\"HSpacer02998\",\"sizing_mode\":\"stretch_width\"},\"id\":\"1424\",\"type\":\"Spacer\"},{\"attributes\":{\"bottom\":{\"value\":0},\"fill_alpha\":{\"value\":0.1},\"fill_color\":{\"value\":\"#00fff0\"},\"hatch_alpha\":{\"value\":0.1},\"hatch_color\":{\"value\":\"#00fff0\"},\"left\":{\"field\":\"left\"},\"line_alpha\":{\"value\":0.1},\"right\":{\"field\":\"right\"},\"top\":{\"field\":\"top\"}},\"id\":\"1050\",\"type\":\"Quad\"},{\"attributes\":{\"format\":\"0,0.0[00000]\"},\"id\":\"1390\",\"type\":\"NumberFormatter\"},{\"attributes\":{},\"id\":\"1366\",\"type\":\"NumberEditor\"},{\"attributes\":{},\"id\":\"1381\",\"type\":\"NumberEditor\"},{\"attributes\":{\"children\":[{\"id\":\"1426\"}],\"css_classes\":[\"panel-widget-box\"],\"margin\":[5,5,5,5],\"name\":\"WidgetBox02993\"},\"id\":\"1425\",\"type\":\"Column\"},{\"attributes\":{\"tools\":[{\"id\":\"1009\"},{\"id\":\"1027\"},{\"id\":\"1028\"},{\"id\":\"1029\"},{\"id\":\"1030\"},{\"id\":\"1031\"}]},\"id\":\"1033\",\"type\":\"Toolbar\"},{\"attributes\":{\"end\":0.26723906488554644},\"id\":\"1064\",\"type\":\"Range1d\"},{\"attributes\":{\"editor\":{\"id\":\"1381\"},\"field\":\"min\",\"formatter\":{\"id\":\"1380\"},\"title\":\"min\"},\"id\":\"1382\",\"type\":\"TableColumn\"},{\"attributes\":{\"editor\":{\"id\":\"1401\"},\"field\":\"max\",\"formatter\":{\"id\":\"1400\"},\"title\":\"max\"},\"id\":\"1402\",\"type\":\"TableColumn\"},{\"attributes\":{\"margin\":[20,20,20,20],\"min_width\":250,\"options\":[\"brand\",\"condition\"],\"title\":\"col\",\"value\":\"brand\",\"width\":250},\"id\":\"1426\",\"type\":\"panel.models.widgets.CustomSelect\"},{\"attributes\":{\"bottom\":{\"value\":0},\"fill_alpha\":{\"value\":0.2},\"fill_color\":{\"value\":\"#00fff0\"},\"hatch_alpha\":{\"value\":0.2},\"hatch_color\":{\"value\":\"#00fff0\"},\"left\":{\"field\":\"left\"},\"line_alpha\":{\"value\":0.2},\"right\":{\"field\":\"right\"},\"top\":{\"field\":\"top\"}},\"id\":\"1051\",\"type\":\"Quad\"},{\"attributes\":{\"editor\":{\"id\":\"1391\"},\"field\":\"A_50_percent\",\"formatter\":{\"id\":\"1390\"},\"title\":\"50%\"},\"id\":\"1392\",\"type\":\"TableColumn\"},{\"attributes\":{\"margin\":[5,5,5,5],\"name\":\"HSpacer02999\",\"sizing_mode\":\"stretch_width\"},\"id\":\"1427\",\"type\":\"Spacer\"},{\"attributes\":{},\"id\":\"1045\",\"type\":\"AllLabels\"},{\"attributes\":{},\"id\":\"1172\",\"type\":\"Selection\"},{\"attributes\":{\"children\":[{\"id\":\"1424\"},{\"id\":\"1425\"},{\"id\":\"1427\"}],\"margin\":[0,0,0,0],\"name\":\"Row03000\"},\"id\":\"1423\",\"type\":\"Row\"},{\"attributes\":{\"editor\":{\"id\":\"1386\"},\"field\":\"A_25_percent\",\"formatter\":{\"id\":\"1385\"},\"title\":\"25%\"},\"id\":\"1387\",\"type\":\"TableColumn\"},{\"attributes\":{\"format\":\"0,0.0[00000]\"},\"id\":\"1380\",\"type\":\"NumberFormatter\"},{\"attributes\":{},\"id\":\"1386\",\"type\":\"NumberEditor\"},{\"attributes\":{\"axis_label\":\"y, brand_density\",\"coordinates\":null,\"formatter\":{\"id\":\"1071\"},\"group\":null,\"major_label_policy\":{\"id\":\"1072\"},\"ticker\":{\"id\":\"1070\"},\"y_range_name\":\"twiny\"},\"id\":\"1065\",\"type\":\"LinearAxis\"},{\"attributes\":{},\"id\":\"1401\",\"type\":\"NumberEditor\"},{\"attributes\":{\"format\":\"0,0.0[00000]\"},\"id\":\"1400\",\"type\":\"NumberFormatter\"},{\"attributes\":{\"client_comm_id\":\"d18497cccce449eeb23a2657f01caff8\",\"comm_id\":\"ba03ece5fdef4779b80bf57ee766400b\",\"plot_id\":\"1002\"},\"id\":\"1480\",\"type\":\"panel.models.comm_manager.CommManager\"},{\"attributes\":{\"format\":\"0,0.0[00000]\"},\"id\":\"1395\",\"type\":\"NumberFormatter\"},{\"attributes\":{\"children\":[{\"id\":\"1006\"},{\"id\":\"1239\"},{\"id\":\"1422\"}],\"margin\":[0,0,0,0],\"name\":\"Row03004\"},\"id\":\"1005\",\"type\":\"Row\"},{\"attributes\":{\"children\":[{\"id\":\"1236\"},{\"id\":\"1234\"}]},\"id\":\"1237\",\"type\":\"Column\"},{\"attributes\":{\"data\":{\"A_25_percent\":{\"__ndarray__\":\"XI/C9ShEYUA=\",\"dtype\":\"float64\",\"order\":\"little\",\"shape\":[1]},\"A_50_percent\":{\"__ndarray__\":\"XI/C9ShEYUA=\",\"dtype\":\"float64\",\"order\":\"little\",\"shape\":[1]},\"A_75_percent\":{\"__ndarray__\":\"XI/C9ShEYUA=\",\"dtype\":\"float64\",\"order\":\"little\",\"shape\":[1]},\"count\":{\"__ndarray__\":\"AAAAADgSAUE=\",\"dtype\":\"float64\",\"order\":\"little\",\"shape\":[1]},\"max\":{\"__ndarray__\":\"XI/C9ShEYUA=\",\"dtype\":\"float64\",\"order\":\"little\",\"shape\":[1]},\"mean\":{\"__ndarray__\":\"SOF6FK7nYEA=\",\"dtype\":\"float64\",\"order\":\"little\",\"shape\":[1]},\"min\":{\"__ndarray__\":\"uB6F61E4K0A=\",\"dtype\":\"float64\",\"order\":\"little\",\"shape\":[1]},\"std\":{\"__ndarray__\":\"AAAAAACALkA=\",\"dtype\":\"float64\",\"order\":\"little\",\"shape\":[1]}},\"selected\":{\"id\":\"1172\"},\"selection_policy\":{\"id\":\"1232\"}},\"id\":\"1171\",\"type\":\"ColumnDataSource\"},{\"attributes\":{\"editor\":{\"id\":\"1366\"},\"field\":\"count\",\"formatter\":{\"id\":\"1365\"},\"title\":\"count\"},\"id\":\"1367\",\"type\":\"TableColumn\"},{\"attributes\":{\"style\":{\"white-space\":\"nowrap\"},\"text\":\"<span style=\\\"color:black;font-family:Arial;font-style:bold;font-weight:bold;font-size:12pt\\\">col: brand</span>\",\"width\":450},\"id\":\"1238\",\"type\":\"Div\"},{\"attributes\":{\"bottom\":{\"value\":0},\"fill_alpha\":{\"value\":1.0},\"fill_color\":{\"value\":\"#00fff0\"},\"hatch_alpha\":{\"value\":1.0},\"hatch_color\":{\"value\":\"#00fff0\"},\"hatch_scale\":{\"value\":12.0},\"hatch_weight\":{\"value\":1.0},\"left\":{\"field\":\"left\"},\"line_alpha\":{\"value\":1.0},\"line_cap\":{\"value\":\"butt\"},\"line_color\":{\"value\":\"black\"},\"line_dash\":{\"value\":[]},\"line_dash_offset\":{\"value\":0},\"line_join\":{\"value\":\"bevel\"},\"line_width\":{\"value\":1},\"right\":{\"field\":\"right\"},\"top\":{\"field\":\"top\"}},\"id\":\"1054\",\"type\":\"Quad\"},{\"attributes\":{},\"id\":\"1044\",\"type\":\"BasicTickFormatter\"},{\"attributes\":{\"children\":[[{\"id\":\"1010\"},0,0],[{\"id\":\"1213\"},1,0]]},\"id\":\"1234\",\"type\":\"GridBox\"},{\"attributes\":{},\"id\":\"1047\",\"type\":\"Selection\"},{\"attributes\":{\"children\":[{\"id\":\"1238\"},{\"id\":\"1237\"}]},\"id\":\"1239\",\"type\":\"Column\"},{\"attributes\":{\"children\":[{\"id\":\"1005\"},{\"id\":\"1423\"}],\"margin\":[0,0,0,0],\"name\":\"Column03005\"},\"id\":\"1004\",\"type\":\"Column\"},{\"attributes\":{\"data\":{\"x\":{\"__ndarray__\":\"9GZY6fKnIkB9oVw0MVglQAXcYH9vCChAjhZlyq24KkAWUWkV7GgtQNDFNjCVDDBAFOO4VbRkMUBYADt707wyQJwdvaDyFDRA4To/xhFtNUAlWMHrMMU2QGp1QxFQHThArpLFNm91OUDyr0dcjs06QDbNyYGtJTxAe+pLp8x9PUC/B87M69U+QIISKHkFF0BAJCHpCxXDQEDGL6qeJG9BQGg+azE0G0JACk0sxEPHQkCsW+1WU3NDQE5qruliH0RA8XhvfHLLRECThzAPgndFQDWW8aGRI0ZA16SyNKHPRkB5s3PHsHtHQBzCNFrAJ0hAvtD17M/TSEBg37Z/339JQALudxLvK0pApPw4pf7XSkBGC/o3DoRLQOgZu8odMExAiyh8XS3cTEAtNz3wPIhNQM9F/oJMNE5AcVS/FVzgTkATY4Coa4xPQNq4oJ09HFBALEABZ0VyUEB9x2EwTchQQM5OwvlUHlFAH9Yiw1x0UUBwXYOMZMpRQMHk41VsIFJAEmxEH3R2UkBk86Toe8xSQLR6BbKDIlNABgJme4t4U0BWicZEk85TQKgQJw6bJFRA+JeH16J6VEBKH+igqtBUQJqmSGqyJlVA7C2pM7p8VUA+tQn9wdJVQI48asbJKFZA4MPKj9F+VkAwSytZ2dRWQILSiyLhKldA0lns6+iAV0Ak4Uy18NZXQHRorX74LFhAxu8NSACDWEAWd24RCNlYQGj+ztoPL1lAuIUvpBeFWUAKDZBtH9tZQFyU8DYnMVpArBtRAC+HWkD+orHJNt1aQE4qEpM+M1tAoLFyXEaJW0DwONMlTt9bQELAM+9VNVxAkkeUuF2LXEDkzvSBZeFcQDRWVUttN11Aht21FHWNXUDWZBbefONdQCjsdqeEOV5AenPXcIyPXkDK+jc6lOVeQByCmAOcO19AbAn5zKORX0C+kFmWq+dfQAcM3a/ZHmBAsE+NlN1JYEBYkz154XRgQAHX7V3ln2BAqRqeQunKYEBSXk4n7fVgQPqh/gvxIGFAo+Wu8PRLYUBLKV/V+HZhQPRsD7r8oWFAnLC/ngDNYUCcsL+eAM1hQPRsD7r8oWFASylf1fh2YUCj5a7w9EthQPqh/gvxIGFAUl5OJ+31YECpGp5C6cpgQAHX7V3ln2BAWJM9eeF0YECwT42U3UlgQAcM3a/ZHmBAvpBZlqvnX0BsCfnMo5FfQByCmAOcO19Ayvo3OpTlXkB6c9dwjI9eQCjsdqeEOV5A1mQW3nzjXUCG3bUUdY1dQDRWVUttN11A5M70gWXhXECSR5S4XYtcQELAM+9VNVxA8DjTJU7fW0CgsXJcRolbQE4qEpM+M1tA/qKxyTbdWkCsG1EAL4daQFyU8DYnMVpACg2QbR/bWUC4hS+kF4VZQGj+ztoPL1lAFnduEQjZWEDG7w1IAINYQHRorX74LFhAJOFMtfDWV0DSWezr6IBXQILSiyLhKldAMEsrWdnUVkDgw8qP0X5WQI48asbJKFZAPrUJ/cHSVUDsLakzunxVQJqmSGqyJlVASh/ooKrQVED4l4fXonpUQKgQJw6bJFRAVonGRJPOU0AGAmZ7i3hTQLR6BbKDIlNAZPOk6HvMUkASbEQfdHZSQMHk41VsIFJAcF2DjGTKUUAf1iLDXHRRQM5OwvlUHlFAfcdhME3IUEAsQAFnRXJQQNq4oJ09HFBAE2OAqGuMT0BxVL8VXOBOQM9F/oJMNE5ALTc98DyITUCLKHxdLdxMQOgZu8odMExARgv6Nw6ES0Ck/Dil/tdKQALudxLvK0pAYN+2f99/SUC+0PXsz9NIQBzCNFrAJ0hAebNzx7B7R0DXpLI0oc9GQDWW8aGRI0ZAk4cwD4J3RUDxeG98cstEQE5qruliH0RArFvtVlNzQ0AKTSzEQ8dCQGg+azE0G0JAxi+qniRvQUAkIekLFcNAQIISKHkFF0BAvwfOzOvVPkB76kunzH09QDbNyYGtJTxA8q9HXI7NOkCuksU2b3U5QGp1QxFQHThAJVjB6zDFNkDhOj/GEW01QJwdvaDyFDRAWAA7e9O8MkAU47hVtGQxQNDFNjCVDDBAFlFpFexoLUCOFmXKrbgqQAXcYH9vCChAfaFcNDFYJUD0Zljp8qciQA==\",\"dtype\":\"float64\",\"order\":\"little\",\"shape\":[200]},\"y\":{\"__ndarray__\":\"AAAAAAAAAAAAAAAAAAAAAAAAAAAAAAAAAAAAAAAAAAAAAAAAAAAAAAAAAAAAAAAAAAAAAAAAAAAAAAAAAAAAAAAAAAAAAAAAAAAAAAAAAAAAAAAAAAAAAAAAAAAAAAAAAAAAAAAAAAAAAAAAAAAAAAAAAAAAAAAAAAAAAAAAAAAAAAAAAAAAAAAAAAAAAAAAAAAAAAAAAAAAAAAAAAAAAAAAAAAAAAAAAAAAAAAAAAAAAAAAAAAAAAAAAAAAAAAAAAAAAAAAAAAAAAAAAAAAAAAAAAAAAAAAAAAAAAAAAAAAAAAAAAAAAAAAAAAAAAAAAAAAAAAAAAAAAAAAAAAAAAAAAAAAAAAAAAAAAAAAAAAAAAAAAAAAAAAAAAAAAAAAAAAAAAAAAAAAAAAAAAAAAAAAAAAAAAAAAAAAAAAAAAAAAAAAAAAAAAAAAAAAAAAAAAAAAAAAAAAAAAAAAAAAAAAAAAAAAAAAAAAAAAAAAAAAAAAAAAAAAAAAAAAAAAAAAAAAAAAAAAAAAAAAAAAAAAAAAAAAAAAAAAAAAAAAAAAAAAAAAAAAAAAAAAAAAAAAAAAAAAAAAAAAAAAAAAAAAAAAAAAAAAAAAAAAAAAAAAAAAAAAAAAAAAAAAAAAAAAAAAAAAAAAAAAAAAAAAAAAAAAAAAAAAAAAAAAAAAAAAAAAAAAAAAAAAAAAAAAAAAAAAAAAAAAAAAAAAAAAAAAAAAAAAAAAAAAAAAAAAAAAAAAAAAAAAAAAAAAAAAAAAAAAAAAAAAAAAAAAAAAAAAAAAAAAAAAAAAAAAAAAAAAAAAAAAAAAAAAAAAAAAAAAAAAAAAAAAAAAAAAAAAAAAAAAAAAAAAAAAAAAAAAAAAAAAAAAAAAAAAAAAAAAAAAAAAAAAAAAAAAAAAAAAAAAAAAAAAAAAAAAAAAAAAAAAAAAAAAAAAAAAAAAAAAAAAAAAAAAAAAAAAAAAAAAAAAAAAAAAAAAAAAAAAAAAAAAAAAAAAAAAAAAAAAAAAAAAAAAAAAAAAAAAAAAAAAAAAAAAAAAAAAAAAAAAAAAAAAAAAAAAADAaFfsTXBoP5c1efohkKA/leX7nlV3wj+s/dUJGO/QP7UihBqsi8k/VyJIpHGyrz+xJm+3uiyAP/cwDObYJzs/GQoYZfm/4j6BjNN39kt1Poq+XYpz5fM9dICSLO2TXj0231mLn1OzPE6Lwy8/GPQ7Q24kXGMvITv7KPkbQC04Ono5ah7q+Ts5i03dXpCgKjif9RWvYtgEN8+eaydV2Mo1yVpSB5VvfDSJc/DnZ8YYMwWfi+UiwaEx9Onp/HUNODAy8ZkOGee4MfEjuM1lGisz7Sf0+jdDiDSdrEzsZ93RNcrd9TaYowU3ZkVcpAOPJTjbQfZgn6oxOSzIY/Gx0Cc6ZaIZ4vRnCjtqk9sxFBXYO+JacdulEJI8+ANEVtFKNj3FV8cKWaDGPdvZ96m240I+2BRmjCDxqT4NUEtg2U39PoevtVEeOjs/JMXkObDOZD+B5lhLhyh6P4+Jgg18DHs/jKC8bmQBZz/QtcLkAxhAP3yblNBahQI/qDw3H/yHsT7DndGRXUxLPowillA6e9E9xcWmQ3BqQj3QopOb9umfPF4l0SID0uY7i9KYPxJ0JDzyv2YQudTRPGdietFnkmk97t+AYx8q7j3hYjONT0RdPtZ7lPIoW7c+EYahHnap/j7Gv+/B8I0wPzdb5iTsZ00/LdpIi1d7VT+ZhZAMydBJP/8n822VhCk//ZZBc33S9D5JO3Z7bCG5PgucX4EPjcU+hp3a7vHH0D72278Ed57FPnpZQ50tl6c+OUO+JQ/rlz5OYQy6Oqm6PjUio9Kswc4+5L5w/4I+zT4F5kVvGN+2PpPVU7ztbI0+Eh//K0InTz6APen7APUTPhqNsDIV6WI+hGIWgylPpj6BUCB0gabVPvJc1u8uSPE+1KqJc3Sx9j67Ga0ojoLoPlxt3BkdxsU+0Q3cf/7Rjz6b1eCrMS1DPmnl0L9/SjM+aXa/ECJNlj5H3UJWiZ3mPmCpUhaycyM/B+jUR39KTD+xhhuItFxhPz9jrWssLGI/eqdnVFOxUT9c791S7yI3P6/fLWKkpRw/BpO19xhS9j5HPmhPWnm/Pg==\",\"dtype\":\"float64\",\"order\":\"little\",\"shape\":[200]}},\"selected\":{\"id\":\"1056\"},\"selection_policy\":{\"id\":\"1078\"}},\"id\":\"1055\",\"type\":\"ColumnDataSource\"},{\"attributes\":{\"axis\":{\"id\":\"1023\"},\"coordinates\":null,\"dimension\":1,\"grid_line_color\":null,\"group\":null,\"ticker\":null},\"id\":\"1026\",\"type\":\"Grid\"},{\"attributes\":{\"toolbar\":{\"id\":\"1235\"},\"toolbar_location\":\"above\"},\"id\":\"1236\",\"type\":\"ToolbarBox\"},{\"attributes\":{\"end\":135585.43,\"reset_end\":147667.3,\"reset_start\":0.0,\"tags\":[[[\"Frequency\",\"Frequency\",null]]]},\"id\":\"1008\",\"type\":\"Range1d\"},{\"attributes\":{\"bottom\":{\"value\":0},\"fill_color\":{\"value\":\"#00fff0\"},\"hatch_color\":{\"value\":\"#00fff0\"},\"left\":{\"field\":\"left\"},\"right\":{\"field\":\"right\"},\"top\":{\"field\":\"top\"}},\"id\":\"1049\",\"type\":\"Quad\"},{\"attributes\":{\"source\":{\"id\":\"1046\"}},\"id\":\"1053\",\"type\":\"CDSView\"},{\"attributes\":{\"below\":[{\"id\":\"1019\"}],\"center\":[{\"id\":\"1022\"},{\"id\":\"1026\"}],\"extra_y_ranges\":{\"twiny\":{\"id\":\"1064\"}},\"height\":300,\"left\":[{\"id\":\"1023\"}],\"margin\":null,\"min_border_bottom\":10,\"min_border_left\":10,\"min_border_right\":10,\"min_border_top\":10,\"renderers\":[{\"id\":\"1052\"},{\"id\":\"1061\"}],\"right\":[{\"id\":\"1065\"}],\"sizing_mode\":\"fixed\",\"title\":{\"id\":\"1011\"},\"toolbar\":{\"id\":\"1033\"},\"toolbar_location\":null,\"x_range\":{\"id\":\"1007\"},\"x_scale\":{\"id\":\"1015\"},\"y_range\":{\"id\":\"1008\"},\"y_scale\":{\"id\":\"1017\"}},\"id\":\"1010\",\"subtype\":\"Figure\",\"type\":\"Plot\"},{\"attributes\":{\"coordinates\":null,\"data_source\":{\"id\":\"1046\"},\"glyph\":{\"id\":\"1049\"},\"group\":null,\"hover_glyph\":null,\"muted_glyph\":{\"id\":\"1051\"},\"nonselection_glyph\":{\"id\":\"1050\"},\"selection_glyph\":{\"id\":\"1054\"},\"view\":{\"id\":\"1053\"}},\"id\":\"1052\",\"type\":\"GlyphRenderer\"},{\"attributes\":{\"end\":149.06024072505184,\"reset_end\":149.06024072505184,\"reset_start\":2.6741101149784354,\"start\":2.6741101149784354,\"tags\":[[[\"x\",\"x\",null]]]},\"id\":\"1007\",\"type\":\"Range1d\"},{\"attributes\":{},\"id\":\"1071\",\"type\":\"BasicTickFormatter\"},{\"attributes\":{},\"id\":\"1015\",\"type\":\"LinearScale\"},{\"attributes\":{\"callback\":null,\"renderers\":[{\"id\":\"1061\"}],\"tags\":[\"hv_created\"],\"tooltips\":[[\"brand\",\"@{brand}\"],[\"Density\",\"@{brand_density}\"]]},\"id\":\"1009\",\"type\":\"HoverTool\"},{\"attributes\":{},\"id\":\"1056\",\"type\":\"Selection\"},{\"attributes\":{},\"id\":\"1070\",\"type\":\"BasicTicker\"},{\"attributes\":{},\"id\":\"1072\",\"type\":\"AllLabels\"},{\"attributes\":{\"coordinates\":null,\"group\":null,\"text\":\"Density Plot for brand\",\"text_color\":\"black\",\"text_font_size\":\"12pt\"},\"id\":\"1011\",\"type\":\"Title\"},{\"attributes\":{\"data\":{\"left\":{\"__ndarray__\":\"nAqZdl02K0CXJxphENUzQODJ5wbyDjpAFbZa1mkkQEA6h0GpWkFDQF5YKHxLXkZAgykPTzx7SUCn+vUhLZhMQMzL3PQdtU9AeM7hYwdpUUAKN1XNf/dSQJyfyDb4hVRAMAg8oHAUVkDCcK8J6aJXQFTZInNhMVlA5kGW3Nm/WkB4qglGUk5cQAoTfa/K3F1AnnvwGENrX0AY8jHB3XxgQA==\",\"dtype\":\"float64\",\"order\":\"little\",\"shape\":[20]},\"right\":{\"__ndarray__\":\"lycaYRDVM0DgyecG8g46QBW2WtZpJEBAOodBqVpBQ0BeWCh8S15GQIMpD088e0lAp/r1IS2YTEDMy9z0HbVPQHjO4WMHaVFACjdVzX/3UkCcn8g2+IVUQDAIPKBwFFZAwnCvCemiV0BU2SJzYTFZQOZBltzZv1pAeKoJRlJOXEAKE32vytxdQJ578BhDa19AGPIxwd18YEBhpuv1GURhQA==\",\"dtype\":\"float64\",\"order\":\"little\",\"shape\":[20]},\"top\":[1302,0,11,0,2,0,2,657,0,0,0,3630,0,0,0,0,0,0,0,134243]},\"selected\":{\"id\":\"1047\"},\"selection_policy\":{\"id\":\"1076\"}},\"id\":\"1046\",\"type\":\"ColumnDataSource\"},{\"attributes\":{},\"id\":\"1024\",\"type\":\"BasicTicker\"},{\"attributes\":{\"axis\":{\"id\":\"1019\"},\"coordinates\":null,\"grid_line_color\":null,\"group\":null,\"ticker\":null},\"id\":\"1022\",\"type\":\"Grid\"},{\"attributes\":{},\"id\":\"1020\",\"type\":\"BasicTicker\"},{\"attributes\":{},\"id\":\"1232\",\"type\":\"UnionRenderers\"},{\"attributes\":{\"children\":[{\"id\":\"1003\"},{\"id\":\"1004\"},{\"id\":\"1428\"}],\"margin\":[0,0,0,0],\"name\":\"Row02992\"},\"id\":\"1002\",\"type\":\"Row\"},{\"attributes\":{\"axis_label\":\"brand\",\"coordinates\":null,\"formatter\":{\"id\":\"1041\"},\"group\":null,\"major_label_policy\":{\"id\":\"1042\"},\"ticker\":{\"id\":\"1020\"}},\"id\":\"1019\",\"type\":\"LinearAxis\"},{\"attributes\":{},\"id\":\"1041\",\"type\":\"BasicTickFormatter\"},{\"attributes\":{\"axis_label\":\"Frequency\",\"coordinates\":null,\"formatter\":{\"id\":\"1044\"},\"group\":null,\"major_label_policy\":{\"id\":\"1045\"},\"ticker\":{\"id\":\"1024\"}},\"id\":\"1023\",\"type\":\"LinearAxis\"},{\"attributes\":{},\"id\":\"1017\",\"type\":\"LinearScale\"},{\"attributes\":{\"format\":\"0,0.0[00000]\"},\"id\":\"1370\",\"type\":\"NumberFormatter\"},{\"attributes\":{},\"id\":\"1371\",\"type\":\"NumberEditor\"}],\"root_ids\":[\"1002\",\"1480\"]},\"title\":\"Bokeh Application\",\"version\":\"2.4.3\"}};\n",
       "    var render_items = [{\"docid\":\"632cbe73-008c-4cb2-8a88-b5831c802b17\",\"root_ids\":[\"1002\"],\"roots\":{\"1002\":\"4c9622bc-aa68-4959-ab9a-e6b8b375bb77\"}}];\n",
       "    root.Bokeh.embed.embed_items_notebook(docs_json, render_items);\n",
       "  }\n",
       "  if (root.Bokeh !== undefined && root.Bokeh.Panel !== undefined) {\n",
       "    embed_document(root);\n",
       "  } else {\n",
       "    var attempts = 0;\n",
       "    var timer = setInterval(function(root) {\n",
       "      if (root.Bokeh !== undefined && root.Bokeh.Panel !== undefined) {\n",
       "        clearInterval(timer);\n",
       "        embed_document(root);\n",
       "      } else if (document.readyState == \"complete\") {\n",
       "        attempts++;\n",
       "        if (attempts > 200) {\n",
       "          clearInterval(timer);\n",
       "          console.log(\"Bokeh: ERROR: Unable to run BokehJS code because BokehJS library is missing\");\n",
       "        }\n",
       "      }\n",
       "    }, 25, root)\n",
       "  }\n",
       "})(window);</script>"
      ],
      "text/plain": [
       ":DynamicMap   [col]\n",
       "   :Layout\n",
       "      .Overlay.I :Overlay\n",
       "         .Histogram.I    :Histogram   [x]   (Frequency)\n",
       "         .Distribution.I :Distribution   [brand]   (Density)\n",
       "      .Table.I   :Table   [count,mean,std,min,25%,50%,75%,max]"
      ]
     },
     "execution_count": 24,
     "metadata": {
      "application/vnd.holoviews_exec.v0+json": {
       "id": "1002"
      }
     },
     "output_type": "execute_result"
    }
   ],
   "source": [
    "out = eda.get_density_plots(train_X, cols=['brand', 'condition'])\n",
    "out"
   ]
  },
  {
   "cell_type": "code",
   "execution_count": 25,
   "metadata": {},
   "outputs": [],
   "source": [
    "# save the plots are html\n",
    "reports.create_report({'univariate': out}, name='feature_analysis_univariate')"
   ]
  },
  {
   "cell_type": "markdown",
   "metadata": {},
   "source": [
    "A report containing the above plot is available [here](https://drive.google.com/file/d/16ntqUc_zvpg0at5pTtO-ljBjw5UVGFnp/view?usp=sharing)\n"
   ]
  },
  {
   "cell_type": "markdown",
   "metadata": {},
   "source": [
    "Alternatively, the above plots can be generated as a single html as below. The output from this is available [here](https://drive.google.com/file/d/1vUaCcs1PJ4IYo1em9-eZIEj9WuDsnFKT/view?usp=sharing)"
   ]
  },
  {
   "cell_type": "code",
   "execution_count": 26,
   "metadata": {},
   "outputs": [
    {
     "name": "stderr",
     "output_type": "stream",
     "text": [
      "p-value may not be accurate for N > 5000.\n",
      "this method is deprecated in favour of `Styler.to_html()`\n"
     ]
    }
   ],
   "source": [
    "reports.feature_analysis(train_X,'./feature_analysis_report.html')"
   ]
  },
  {
   "cell_type": "markdown",
   "metadata": {},
   "source": [
    "### 3.2.2 Bivariate - mutual interactions"
   ]
  },
  {
   "cell_type": "markdown",
   "metadata": {},
   "source": [
    "- Find columns with high correlations and drop them"
   ]
  },
  {
   "cell_type": "code",
   "execution_count": 27,
   "metadata": {},
   "outputs": [
    {
     "data": {
      "text/html": [
       "<div>\n",
       "<style scoped>\n",
       "    .dataframe tbody tr th:only-of-type {\n",
       "        vertical-align: middle;\n",
       "    }\n",
       "\n",
       "    .dataframe tbody tr th {\n",
       "        vertical-align: top;\n",
       "    }\n",
       "\n",
       "    .dataframe thead th {\n",
       "        text-align: right;\n",
       "    }\n",
       "</style>\n",
       "<table border=\"1\" class=\"dataframe\">\n",
       "  <thead>\n",
       "    <tr style=\"text-align: right;\">\n",
       "      <th></th>\n",
       "      <th>Variable 1</th>\n",
       "      <th>Variable 2</th>\n",
       "      <th>Corr Coef</th>\n",
       "      <th>Abs Corr Coef</th>\n",
       "    </tr>\n",
       "  </thead>\n",
       "  <tbody>\n",
       "    <tr>\n",
       "      <th>0</th>\n",
       "      <td>brand</td>\n",
       "      <td>manufacturer</td>\n",
       "      <td>0.999720</td>\n",
       "      <td>0.999720</td>\n",
       "    </tr>\n",
       "    <tr>\n",
       "      <th>1</th>\n",
       "      <td>selling_cost</td>\n",
       "      <td>selling_price</td>\n",
       "      <td>0.989539</td>\n",
       "      <td>0.989539</td>\n",
       "    </tr>\n",
       "    <tr>\n",
       "      <th>2</th>\n",
       "      <td>inventory_id</td>\n",
       "      <td>sku</td>\n",
       "      <td>0.988895</td>\n",
       "      <td>0.988895</td>\n",
       "    </tr>\n",
       "    <tr>\n",
       "      <th>3</th>\n",
       "      <td>invoice_no</td>\n",
       "      <td>order_no</td>\n",
       "      <td>0.988130</td>\n",
       "      <td>0.988130</td>\n",
       "    </tr>\n",
       "    <tr>\n",
       "      <th>4</th>\n",
       "      <td>ext_model_family</td>\n",
       "      <td>model_family</td>\n",
       "      <td>0.983545</td>\n",
       "      <td>0.983545</td>\n",
       "    </tr>\n",
       "    <tr>\n",
       "      <th>5</th>\n",
       "      <td>channel</td>\n",
       "      <td>source_channel</td>\n",
       "      <td>0.967496</td>\n",
       "      <td>0.967496</td>\n",
       "    </tr>\n",
       "    <tr>\n",
       "      <th>6</th>\n",
       "      <td>condition</td>\n",
       "      <td>ext_grade</td>\n",
       "      <td>0.959041</td>\n",
       "      <td>0.959041</td>\n",
       "    </tr>\n",
       "    <tr>\n",
       "      <th>7</th>\n",
       "      <td>ext_model_family</td>\n",
       "      <td>tgt_enc_sim_impt_platforms</td>\n",
       "      <td>0.949098</td>\n",
       "      <td>0.949098</td>\n",
       "    </tr>\n",
       "    <tr>\n",
       "      <th>8</th>\n",
       "      <td>model_family</td>\n",
       "      <td>tgt_enc_sim_impt_platforms</td>\n",
       "      <td>0.947178</td>\n",
       "      <td>0.947178</td>\n",
       "    </tr>\n",
       "    <tr>\n",
       "      <th>9</th>\n",
       "      <td>inventory_id</td>\n",
       "      <td>model_family</td>\n",
       "      <td>0.924122</td>\n",
       "      <td>0.924122</td>\n",
       "    </tr>\n",
       "    <tr>\n",
       "      <th>10</th>\n",
       "      <td>model_family</td>\n",
       "      <td>sku</td>\n",
       "      <td>0.917067</td>\n",
       "      <td>0.917067</td>\n",
       "    </tr>\n",
       "    <tr>\n",
       "      <th>11</th>\n",
       "      <td>ext_model_family</td>\n",
       "      <td>inventory_id</td>\n",
       "      <td>0.909772</td>\n",
       "      <td>0.909772</td>\n",
       "    </tr>\n",
       "    <tr>\n",
       "      <th>12</th>\n",
       "      <td>ext_model_family</td>\n",
       "      <td>sku</td>\n",
       "      <td>0.902652</td>\n",
       "      <td>0.902652</td>\n",
       "    </tr>\n",
       "    <tr>\n",
       "      <th>13</th>\n",
       "      <td>inventory_id</td>\n",
       "      <td>tgt_enc_sim_impt_platforms</td>\n",
       "      <td>0.894981</td>\n",
       "      <td>0.894981</td>\n",
       "    </tr>\n",
       "    <tr>\n",
       "      <th>14</th>\n",
       "      <td>quantity</td>\n",
       "      <td>selling_price</td>\n",
       "      <td>0.889678</td>\n",
       "      <td>0.889678</td>\n",
       "    </tr>\n",
       "    <tr>\n",
       "      <th>15</th>\n",
       "      <td>sku</td>\n",
       "      <td>tgt_enc_sim_impt_platforms</td>\n",
       "      <td>0.885265</td>\n",
       "      <td>0.885265</td>\n",
       "    </tr>\n",
       "    <tr>\n",
       "      <th>16</th>\n",
       "      <td>quantity</td>\n",
       "      <td>selling_cost</td>\n",
       "      <td>0.871403</td>\n",
       "      <td>0.871403</td>\n",
       "    </tr>\n",
       "    <tr>\n",
       "      <th>17</th>\n",
       "      <td>inventory_id</td>\n",
       "      <td>unit_cost</td>\n",
       "      <td>0.859735</td>\n",
       "      <td>0.859735</td>\n",
       "    </tr>\n",
       "    <tr>\n",
       "      <th>18</th>\n",
       "      <td>model_family</td>\n",
       "      <td>unit_cost</td>\n",
       "      <td>0.858565</td>\n",
       "      <td>0.858565</td>\n",
       "    </tr>\n",
       "    <tr>\n",
       "      <th>19</th>\n",
       "      <td>sku</td>\n",
       "      <td>unit_cost</td>\n",
       "      <td>0.856862</td>\n",
       "      <td>0.856862</td>\n",
       "    </tr>\n",
       "    <tr>\n",
       "      <th>20</th>\n",
       "      <td>ext_model_family</td>\n",
       "      <td>unit_cost</td>\n",
       "      <td>0.853177</td>\n",
       "      <td>0.853177</td>\n",
       "    </tr>\n",
       "    <tr>\n",
       "      <th>21</th>\n",
       "      <td>tgt_enc_sim_impt_platforms</td>\n",
       "      <td>unit_cost</td>\n",
       "      <td>0.824691</td>\n",
       "      <td>0.824691</td>\n",
       "    </tr>\n",
       "    <tr>\n",
       "      <th>22</th>\n",
       "      <td>memory_size</td>\n",
       "      <td>model_family</td>\n",
       "      <td>0.636147</td>\n",
       "      <td>0.636147</td>\n",
       "    </tr>\n",
       "  </tbody>\n",
       "</table>\n",
       "</div>"
      ],
      "text/plain": [
       "                    Variable 1                  Variable 2  Corr Coef  \\\n",
       "0                        brand                manufacturer   0.999720   \n",
       "1                 selling_cost               selling_price   0.989539   \n",
       "2                 inventory_id                         sku   0.988895   \n",
       "3                   invoice_no                    order_no   0.988130   \n",
       "4             ext_model_family                model_family   0.983545   \n",
       "5                      channel              source_channel   0.967496   \n",
       "6                    condition                   ext_grade   0.959041   \n",
       "7             ext_model_family  tgt_enc_sim_impt_platforms   0.949098   \n",
       "8                 model_family  tgt_enc_sim_impt_platforms   0.947178   \n",
       "9                 inventory_id                model_family   0.924122   \n",
       "10                model_family                         sku   0.917067   \n",
       "11            ext_model_family                inventory_id   0.909772   \n",
       "12            ext_model_family                         sku   0.902652   \n",
       "13                inventory_id  tgt_enc_sim_impt_platforms   0.894981   \n",
       "14                    quantity               selling_price   0.889678   \n",
       "15                         sku  tgt_enc_sim_impt_platforms   0.885265   \n",
       "16                    quantity                selling_cost   0.871403   \n",
       "17                inventory_id                   unit_cost   0.859735   \n",
       "18                model_family                   unit_cost   0.858565   \n",
       "19                         sku                   unit_cost   0.856862   \n",
       "20            ext_model_family                   unit_cost   0.853177   \n",
       "21  tgt_enc_sim_impt_platforms                   unit_cost   0.824691   \n",
       "22                 memory_size                model_family   0.636147   \n",
       "\n",
       "    Abs Corr Coef  \n",
       "0        0.999720  \n",
       "1        0.989539  \n",
       "2        0.988895  \n",
       "3        0.988130  \n",
       "4        0.983545  \n",
       "5        0.967496  \n",
       "6        0.959041  \n",
       "7        0.949098  \n",
       "8        0.947178  \n",
       "9        0.924122  \n",
       "10       0.917067  \n",
       "11       0.909772  \n",
       "12       0.902652  \n",
       "13       0.894981  \n",
       "14       0.889678  \n",
       "15       0.885265  \n",
       "16       0.871403  \n",
       "17       0.859735  \n",
       "18       0.858565  \n",
       "19       0.856862  \n",
       "20       0.853177  \n",
       "21       0.824691  \n",
       "22       0.636147  "
      ]
     },
     "execution_count": 27,
     "metadata": {},
     "output_type": "execute_result"
    }
   ],
   "source": [
    "out = eda.get_correlation_table(train_X)\n",
    "out[out[\"Abs Corr Coef\"] > 0.6]"
   ]
  },
  {
   "cell_type": "code",
   "execution_count": 28,
   "metadata": {},
   "outputs": [
    {
     "data": {
      "text/html": [
       "<div>\n",
       "<style scoped>\n",
       "    .dataframe tbody tr th:only-of-type {\n",
       "        vertical-align: middle;\n",
       "    }\n",
       "\n",
       "    .dataframe tbody tr th {\n",
       "        vertical-align: top;\n",
       "    }\n",
       "\n",
       "    .dataframe thead th {\n",
       "        text-align: right;\n",
       "    }\n",
       "</style>\n",
       "<table border=\"1\" class=\"dataframe\">\n",
       "  <thead>\n",
       "    <tr style=\"text-align: right;\">\n",
       "      <th></th>\n",
       "      <th>Variable 1</th>\n",
       "      <th>Variable 2</th>\n",
       "      <th>Corr Coef</th>\n",
       "      <th>Abs Corr Coef</th>\n",
       "    </tr>\n",
       "  </thead>\n",
       "  <tbody>\n",
       "    <tr>\n",
       "      <th>0</th>\n",
       "      <td>model_family</td>\n",
       "      <td>tgt_enc_sim_impt_platforms</td>\n",
       "      <td>0.947178</td>\n",
       "      <td>0.947178</td>\n",
       "    </tr>\n",
       "    <tr>\n",
       "      <th>1</th>\n",
       "      <td>model_family</td>\n",
       "      <td>sku</td>\n",
       "      <td>0.917067</td>\n",
       "      <td>0.917067</td>\n",
       "    </tr>\n",
       "    <tr>\n",
       "      <th>2</th>\n",
       "      <td>sku</td>\n",
       "      <td>tgt_enc_sim_impt_platforms</td>\n",
       "      <td>0.885265</td>\n",
       "      <td>0.885265</td>\n",
       "    </tr>\n",
       "    <tr>\n",
       "      <th>3</th>\n",
       "      <td>model_family</td>\n",
       "      <td>unit_cost</td>\n",
       "      <td>0.858565</td>\n",
       "      <td>0.858565</td>\n",
       "    </tr>\n",
       "    <tr>\n",
       "      <th>4</th>\n",
       "      <td>sku</td>\n",
       "      <td>unit_cost</td>\n",
       "      <td>0.856862</td>\n",
       "      <td>0.856862</td>\n",
       "    </tr>\n",
       "    <tr>\n",
       "      <th>5</th>\n",
       "      <td>tgt_enc_sim_impt_platforms</td>\n",
       "      <td>unit_cost</td>\n",
       "      <td>0.824691</td>\n",
       "      <td>0.824691</td>\n",
       "    </tr>\n",
       "    <tr>\n",
       "      <th>6</th>\n",
       "      <td>memory_size</td>\n",
       "      <td>model_family</td>\n",
       "      <td>0.636147</td>\n",
       "      <td>0.636147</td>\n",
       "    </tr>\n",
       "  </tbody>\n",
       "</table>\n",
       "</div>"
      ],
      "text/plain": [
       "                   Variable 1                  Variable 2  Corr Coef  \\\n",
       "0                model_family  tgt_enc_sim_impt_platforms   0.947178   \n",
       "1                model_family                         sku   0.917067   \n",
       "2                         sku  tgt_enc_sim_impt_platforms   0.885265   \n",
       "3                model_family                   unit_cost   0.858565   \n",
       "4                         sku                   unit_cost   0.856862   \n",
       "5  tgt_enc_sim_impt_platforms                   unit_cost   0.824691   \n",
       "6                 memory_size                model_family   0.636147   \n",
       "\n",
       "   Abs Corr Coef  \n",
       "0       0.947178  \n",
       "1       0.917067  \n",
       "2       0.885265  \n",
       "3       0.858565  \n",
       "4       0.856862  \n",
       "5       0.824691  \n",
       "6       0.636147  "
      ]
     },
     "execution_count": 28,
     "metadata": {},
     "output_type": "execute_result"
    }
   ],
   "source": [
    "# channel and source_channel highly correlated. So discarding source_channel\n",
    "# brand and manufacturer are almost same so discarding manufacturer.\n",
    "# Similarly keeping sku between inventory and sku\n",
    "# Similarly keeping condition between conditions and ext_grade\n",
    "# Similarly keeping model_family between platforms, ext_model_family and model_family\n",
    "# Discarding selling price & selling cost as they are multiples of unit price/cost & quantity.\n",
    "# Discarding gp as it is the of selling price and selling cost\n",
    "# order_no, line, invoice_no & customername cannot be IDVs\n",
    "curated_columns = list(\n",
    "    set(train_X.columns.to_list()) \n",
    "    - set(['manufacturer', 'inventory_id', 'ext_grade', 'source_channel',\n",
    "           'tgt_enc_iter_impt_platforms', 'ext_model_family',\n",
    "           'order_no', 'line', 'inventory_id',\n",
    "           'gp', 'selling_price', 'selling_cost','invoice_no','customername'])\n",
    ")\n",
    "\n",
    "train_X = train_X[curated_columns]\n",
    "\n",
    "out = eda.get_correlation_table(train_X)\n",
    "out[out[\"Abs Corr Coef\"] > 0.6]"
   ]
  },
  {
   "cell_type": "code",
   "execution_count": 29,
   "metadata": {},
   "outputs": [
    {
     "data": {},
     "metadata": {},
     "output_type": "display_data"
    },
    {
     "data": {
      "application/vnd.holoviews_exec.v0+json": "",
      "text/html": [
       "<div id='24418'>\n",
       "  <div class=\"bk-root\" id=\"69f88806-997e-441b-b26d-fbe1ddac7921\" data-root-id=\"24418\"></div>\n",
       "</div>\n",
       "<script type=\"application/javascript\">(function(root) {\n",
       "  function embed_document(root) {\n",
       "    var docs_json = {\"2ea3376f-a9c7-42b3-b6e1-2a12e86f7e93\":{\"defs\":[{\"extends\":null,\"module\":null,\"name\":\"ReactiveHTML1\",\"overrides\":[],\"properties\":[]},{\"extends\":null,\"module\":null,\"name\":\"FlexBox1\",\"overrides\":[],\"properties\":[{\"default\":\"flex-start\",\"kind\":null,\"name\":\"align_content\"},{\"default\":\"flex-start\",\"kind\":null,\"name\":\"align_items\"},{\"default\":\"row\",\"kind\":null,\"name\":\"flex_direction\"},{\"default\":\"wrap\",\"kind\":null,\"name\":\"flex_wrap\"},{\"default\":\"flex-start\",\"kind\":null,\"name\":\"justify_content\"}]},{\"extends\":null,\"module\":null,\"name\":\"GridStack1\",\"overrides\":[],\"properties\":[{\"default\":\"warn\",\"kind\":null,\"name\":\"mode\"},{\"default\":null,\"kind\":null,\"name\":\"ncols\"},{\"default\":null,\"kind\":null,\"name\":\"nrows\"},{\"default\":true,\"kind\":null,\"name\":\"allow_resize\"},{\"default\":true,\"kind\":null,\"name\":\"allow_drag\"},{\"default\":[],\"kind\":null,\"name\":\"state\"}]},{\"extends\":null,\"module\":null,\"name\":\"click1\",\"overrides\":[],\"properties\":[{\"default\":\"\",\"kind\":null,\"name\":\"terminal_output\"},{\"default\":\"\",\"kind\":null,\"name\":\"debug_name\"},{\"default\":0,\"kind\":null,\"name\":\"clears\"}]},{\"extends\":null,\"module\":null,\"name\":\"NotificationAreaBase1\",\"overrides\":[],\"properties\":[{\"default\":\"bottom-right\",\"kind\":null,\"name\":\"position\"},{\"default\":0,\"kind\":null,\"name\":\"_clear\"}]},{\"extends\":null,\"module\":null,\"name\":\"NotificationArea1\",\"overrides\":[],\"properties\":[{\"default\":[],\"kind\":null,\"name\":\"notifications\"},{\"default\":\"bottom-right\",\"kind\":null,\"name\":\"position\"},{\"default\":0,\"kind\":null,\"name\":\"_clear\"},{\"default\":[{\"background\":\"#ffc107\",\"icon\":{\"className\":\"fas fa-exclamation-triangle\",\"color\":\"white\",\"tagName\":\"i\"},\"type\":\"warning\"},{\"background\":\"#007bff\",\"icon\":{\"className\":\"fas fa-info-circle\",\"color\":\"white\",\"tagName\":\"i\"},\"type\":\"info\"}],\"kind\":null,\"name\":\"types\"}]},{\"extends\":null,\"module\":null,\"name\":\"Notification\",\"overrides\":[],\"properties\":[{\"default\":null,\"kind\":null,\"name\":\"background\"},{\"default\":3000,\"kind\":null,\"name\":\"duration\"},{\"default\":null,\"kind\":null,\"name\":\"icon\"},{\"default\":\"\",\"kind\":null,\"name\":\"message\"},{\"default\":null,\"kind\":null,\"name\":\"notification_type\"},{\"default\":false,\"kind\":null,\"name\":\"_destroyed\"}]},{\"extends\":null,\"module\":null,\"name\":\"TemplateActions1\",\"overrides\":[],\"properties\":[{\"default\":0,\"kind\":null,\"name\":\"open_modal\"},{\"default\":0,\"kind\":null,\"name\":\"close_modal\"}]},{\"extends\":null,\"module\":null,\"name\":\"MaterialTemplateActions1\",\"overrides\":[],\"properties\":[{\"default\":0,\"kind\":null,\"name\":\"open_modal\"},{\"default\":0,\"kind\":null,\"name\":\"close_modal\"}]}],\"roots\":{\"references\":[{\"attributes\":{},\"id\":\"24470\",\"type\":\"AllLabels\"},{\"attributes\":{\"overlay\":{\"id\":\"24445\"}},\"id\":\"24443\",\"type\":\"BoxZoomTool\"},{\"attributes\":{},\"id\":\"24467\",\"type\":\"AllLabels\"},{\"attributes\":{},\"id\":\"24475\",\"type\":\"NoOverlap\"},{\"attributes\":{},\"id\":\"24466\",\"type\":\"BasicTickFormatter\"},{\"attributes\":{\"data\":{\"Count\":[46541,23566,8479,17548,28115,2557,532,391,1680,1647,1016,665,60,375,2096,719,352,742,257,867,45,111,83,412,117,236,20,1,162,7,90,26,19,73,36,20,15,27,29,2,1,1,12,6,2,15,12,2,10,8,1,2,3,2,2,7,1,3,3,1,3,2,1,3,2,3,1,1,1],\"q\":[55,56,51,53,56,63,11,33,35,54,53,37,10,34,58,50,7,52,52,54,25,24,33,26,41,13,41,50,32,7,31,34,9,28,57,12,10,74,74,18,16,19,31,13,20,24,14,11,14,12,7,23,38,8,14,9,23,6,8,15,19,12,10,44,15,37,13,22,10],\"r\":[-14,-16,-6,-10,-15,-29,-10,-6,-11,-12,-9,-15,-11,-8,-20,-3,-2,-8,-7,-11,-8,-6,-7,-11,-22,-15,-23,-4,-5,-3,-2,-9,-8,-15,-18,-12,-8,-52,-51,-15,-10,-8,-3,-14,-29,-7,-16,-11,-15,-15,-4,-11,-16,-6,-6,-6,-15,-3,-3,-8,-16,-3,-10,-29,-20,-14,-16,-3,-9]},\"selected\":{\"id\":\"24455\"},\"selection_policy\":{\"id\":\"24479\"}},\"id\":\"24454\",\"type\":\"ColumnDataSource\"},{\"attributes\":{},\"id\":\"24455\",\"type\":\"Selection\"},{\"attributes\":{\"source\":{\"id\":\"24454\"}},\"id\":\"24461\",\"type\":\"CDSView\"},{\"attributes\":{\"axis_label\":\"color\",\"coordinates\":null,\"formatter\":{\"id\":\"24469\"},\"group\":null,\"major_label_policy\":{\"id\":\"24470\"},\"ticker\":{\"id\":\"24437\"}},\"id\":\"24436\",\"type\":\"LinearAxis\"},{\"attributes\":{\"aspect_scale\":3.963378582216073,\"fill_alpha\":{\"value\":0.1},\"fill_color\":{\"field\":\"Count\",\"transform\":{\"id\":\"24453\"}},\"hatch_alpha\":{\"value\":0.1},\"hatch_color\":{\"field\":\"Count\",\"transform\":{\"id\":\"24453\"}},\"line_alpha\":{\"value\":0.1},\"line_color\":{\"field\":\"Count\",\"transform\":{\"id\":\"24453\"}},\"q\":{\"field\":\"q\"},\"r\":{\"field\":\"r\"},\"size\":6.580370361306615},\"id\":\"24458\",\"type\":\"HexTile\"},{\"attributes\":{\"end\":557.130555485674,\"reset_end\":557.130555485674,\"reset_start\":-35.10277703192141,\"start\":-35.10277703192141,\"tags\":[[[\"color\",\"color\",null]]]},\"id\":\"24421\",\"type\":\"Range1d\"},{\"attributes\":{\"coordinates\":null,\"data_source\":{\"id\":\"24454\"},\"glyph\":{\"id\":\"24457\"},\"group\":null,\"hover_glyph\":null,\"muted_glyph\":{\"id\":\"24459\"},\"nonselection_glyph\":{\"id\":\"24458\"},\"selection_glyph\":{\"id\":\"24464\"},\"view\":{\"id\":\"24461\"}},\"id\":\"24460\",\"type\":\"GlyphRenderer\"},{\"attributes\":{},\"id\":\"24469\",\"type\":\"BasicTickFormatter\"},{\"attributes\":{\"axis\":{\"id\":\"24432\"},\"coordinates\":null,\"grid_line_color\":null,\"group\":null,\"ticker\":null},\"id\":\"24435\",\"type\":\"Grid\"},{\"attributes\":{},\"id\":\"24479\",\"type\":\"UnionRenderers\"},{\"attributes\":{\"callback\":null,\"renderers\":[{\"id\":\"24460\"}],\"tags\":[\"hv_created\"],\"tooltips\":[[\"Count\",\"@{Count}\"]]},\"id\":\"24422\",\"type\":\"HoverTool\"},{\"attributes\":{\"margin\":[5,5,5,5],\"name\":\"HSpacer52063\",\"sizing_mode\":\"stretch_width\"},\"id\":\"24482\",\"type\":\"Spacer\"},{\"attributes\":{\"aspect_scale\":3.963378582216073,\"fill_color\":{\"field\":\"Count\",\"transform\":{\"id\":\"24453\"}},\"hatch_color\":{\"field\":\"Count\",\"transform\":{\"id\":\"24453\"}},\"line_color\":{\"field\":\"Count\",\"transform\":{\"id\":\"24453\"}},\"q\":{\"field\":\"q\"},\"r\":{\"field\":\"r\"},\"size\":6.580370361306615},\"id\":\"24457\",\"type\":\"HexTile\"},{\"attributes\":{\"below\":[{\"id\":\"24432\"}],\"center\":[{\"id\":\"24435\"},{\"id\":\"24439\"}],\"height\":300,\"left\":[{\"id\":\"24436\"}],\"margin\":[5,5,5,5],\"min_border_bottom\":10,\"min_border_left\":10,\"min_border_right\":10,\"min_border_top\":10,\"renderers\":[{\"id\":\"24460\"}],\"right\":[{\"id\":\"24463\"}],\"sizing_mode\":\"fixed\",\"title\":{\"id\":\"24424\"},\"toolbar\":{\"id\":\"24446\"},\"x_range\":{\"id\":\"24420\"},\"x_scale\":{\"id\":\"24428\"},\"y_range\":{\"id\":\"24421\"},\"y_scale\":{\"id\":\"24430\"}},\"id\":\"24423\",\"subtype\":\"Figure\",\"type\":\"Plot\"},{\"attributes\":{\"bar_line_color\":\"black\",\"color_mapper\":{\"id\":\"24453\"},\"coordinates\":null,\"group\":null,\"label_standoff\":8,\"location\":[0,0],\"major_label_policy\":{\"id\":\"24475\"},\"major_tick_line_color\":\"black\",\"ticker\":{\"id\":\"24462\"}},\"id\":\"24463\",\"type\":\"ColorBar\"},{\"attributes\":{\"aspect_scale\":3.963378582216073,\"fill_alpha\":{\"value\":0.2},\"fill_color\":{\"field\":\"Count\",\"transform\":{\"id\":\"24453\"}},\"hatch_alpha\":{\"value\":0.2},\"hatch_color\":{\"field\":\"Count\",\"transform\":{\"id\":\"24453\"}},\"line_alpha\":{\"value\":0.2},\"line_color\":{\"field\":\"Count\",\"transform\":{\"id\":\"24453\"}},\"q\":{\"field\":\"q\"},\"r\":{\"field\":\"r\"},\"size\":6.580370361306615},\"id\":\"24459\",\"type\":\"HexTile\"},{\"attributes\":{},\"id\":\"24442\",\"type\":\"WheelZoomTool\"},{\"attributes\":{\"axis\":{\"id\":\"24436\"},\"coordinates\":null,\"dimension\":1,\"grid_line_color\":null,\"group\":null,\"ticker\":null},\"id\":\"24439\",\"type\":\"Grid\"},{\"attributes\":{\"margin\":[5,5,5,5],\"name\":\"HSpacer52062\",\"sizing_mode\":\"stretch_width\"},\"id\":\"24419\",\"type\":\"Spacer\"},{\"attributes\":{\"bottom_units\":\"screen\",\"coordinates\":null,\"fill_alpha\":0.5,\"fill_color\":\"lightgrey\",\"group\":null,\"left_units\":\"screen\",\"level\":\"overlay\",\"line_alpha\":1.0,\"line_color\":\"black\",\"line_dash\":[4,4],\"line_width\":2,\"right_units\":\"screen\",\"syncable\":false,\"top_units\":\"screen\"},\"id\":\"24445\",\"type\":\"BoxAnnotation\"},{\"attributes\":{},\"id\":\"24441\",\"type\":\"PanTool\"},{\"attributes\":{\"tools\":[{\"id\":\"24422\"},{\"id\":\"24440\"},{\"id\":\"24441\"},{\"id\":\"24442\"},{\"id\":\"24443\"},{\"id\":\"24444\"}]},\"id\":\"24446\",\"type\":\"Toolbar\"},{\"attributes\":{\"axis_label\":\"brand\",\"coordinates\":null,\"formatter\":{\"id\":\"24466\"},\"group\":null,\"major_label_policy\":{\"id\":\"24467\"},\"ticker\":{\"id\":\"24433\"}},\"id\":\"24432\",\"type\":\"LinearAxis\"},{\"attributes\":{},\"id\":\"24428\",\"type\":\"LinearScale\"},{\"attributes\":{},\"id\":\"24433\",\"type\":\"BasicTicker\"},{\"attributes\":{\"children\":[{\"id\":\"24419\"},{\"id\":\"24423\"},{\"id\":\"24482\"}],\"margin\":[0,0,0,0],\"name\":\"Row52058\",\"tags\":[\"embedded\"]},\"id\":\"24418\",\"type\":\"Row\"},{\"attributes\":{\"end\":138.12816902184844,\"reset_end\":138.12816902184844,\"reset_start\":13.606181818181817,\"start\":13.606181818181817,\"tags\":[[[\"brand\",\"brand\",null]]]},\"id\":\"24420\",\"type\":\"Range1d\"},{\"attributes\":{},\"id\":\"24462\",\"type\":\"BasicTicker\"},{\"attributes\":{},\"id\":\"24444\",\"type\":\"ResetTool\"},{\"attributes\":{\"aspect_scale\":3.963378582216073,\"fill_alpha\":{\"value\":1.0},\"fill_color\":{\"field\":\"Count\",\"transform\":{\"id\":\"24453\"}},\"hatch_alpha\":{\"value\":1.0},\"hatch_color\":{\"field\":\"Count\",\"transform\":{\"id\":\"24453\"}},\"hatch_scale\":{\"value\":12.0},\"hatch_weight\":{\"value\":1.0},\"line_alpha\":{\"value\":1.0},\"line_cap\":{\"value\":\"butt\"},\"line_color\":{\"field\":\"Count\",\"transform\":{\"id\":\"24453\"}},\"line_dash\":{\"value\":[]},\"line_dash_offset\":{\"value\":0},\"line_join\":{\"value\":\"bevel\"},\"line_width\":{\"value\":1},\"q\":{\"field\":\"q\"},\"r\":{\"field\":\"r\"},\"scale\":{\"value\":1.0},\"size\":6.580370361306615},\"id\":\"24464\",\"type\":\"HexTile\"},{\"attributes\":{\"coordinates\":null,\"group\":null,\"text\":\"Correlation: 0.198\",\"text_color\":\"black\",\"text_font_size\":\"12pt\"},\"id\":\"24424\",\"type\":\"Title\"},{\"attributes\":{},\"id\":\"24440\",\"type\":\"SaveTool\"},{\"attributes\":{},\"id\":\"24437\",\"type\":\"BasicTicker\"},{\"attributes\":{},\"id\":\"24430\",\"type\":\"LinearScale\"},{\"attributes\":{\"high\":46541,\"low\":1,\"palette\":[\"#b3fef5\",\"#b0fef5\",\"#adfdf5\",\"#a9fcf5\",\"#a6fbf6\",\"#a3faf6\",\"#a0faf6\",\"#9df9f6\",\"#9af8f6\",\"#97f7f6\",\"#93f7f6\",\"#90f6f6\",\"#8df5f6\",\"#8af4f7\",\"#87f3f7\",\"#83f2f7\",\"#80f2f7\",\"#7df1f7\",\"#79f0f7\",\"#76eff7\",\"#73eef7\",\"#6fedf8\",\"#6cecf8\",\"#68ecf8\",\"#65ebf8\",\"#61eaf8\",\"#5ee9f8\",\"#5ae8f8\",\"#57e7f8\",\"#53e6f8\",\"#50e5f9\",\"#4ce4f9\",\"#49e3f9\",\"#45e2f9\",\"#42e1f9\",\"#3ee0f9\",\"#3bdff9\",\"#38def9\",\"#35ddf9\",\"#32dcf9\",\"#30dbfa\",\"#2ed9fa\",\"#2dd8fa\",\"#2cd7fa\",\"#2bd6fa\",\"#2bd5fa\",\"#2ad3fa\",\"#2ad2fa\",\"#29d1fa\",\"#29d0fb\",\"#29cffb\",\"#28cdfb\",\"#28ccfb\",\"#28cbfb\",\"#28cafb\",\"#28c8fb\",\"#28c7fb\",\"#29c6fb\",\"#29c5fb\",\"#29c4fb\",\"#29c2fb\",\"#2ac1fb\",\"#2ac0fb\",\"#2bbffb\",\"#2bbdfc\",\"#2cbcfc\",\"#2dbbfc\",\"#2db9fc\",\"#2eb8fc\",\"#2fb7fc\",\"#2fb6fc\",\"#30b4fc\",\"#31b3fc\",\"#32b2fc\",\"#32b0fc\",\"#33affc\",\"#33aefc\",\"#34adfc\",\"#34abfc\",\"#34aafc\",\"#35a9fc\",\"#35a8fc\",\"#35a6fc\",\"#35a5fc\",\"#35a4fc\",\"#35a3fc\",\"#35a1fc\",\"#35a0fc\",\"#359ffc\",\"#359dfc\",\"#359cfc\",\"#359bfc\",\"#349afd\",\"#3498fd\",\"#3497fd\",\"#3396fd\",\"#3395fd\",\"#3293fd\",\"#3292fd\",\"#3191fd\",\"#3090fd\",\"#308ffd\",\"#2f8dfd\",\"#2f8cfd\",\"#2e8bfd\",\"#2e8afd\",\"#2d88fd\",\"#2d87fd\",\"#2c86fd\",\"#2c84fd\",\"#2c83fd\",\"#2c82fd\",\"#2b81fd\",\"#2b7ffd\",\"#2b7efd\",\"#2b7dfd\",\"#2b7bfd\",\"#2b7afd\",\"#2b79fd\",\"#2b77fd\",\"#2b76fd\",\"#2b75fd\",\"#2b73fd\",\"#2c72fd\",\"#2c71fd\",\"#2c6ffd\",\"#2c6efd\",\"#2d6cfd\",\"#2d6bfd\",\"#2d6afc\",\"#2e68fc\",\"#2e67fc\",\"#2e65fc\",\"#2e64fc\",\"#2f62fc\",\"#2f61fc\",\"#2f5ffc\",\"#2f5efc\",\"#2f5dfc\",\"#2f5bfc\",\"#2f5afc\",\"#2f58fb\",\"#2f57fb\",\"#2f55fb\",\"#2f53fb\",\"#2f52fb\",\"#2f50fb\",\"#2f4ffb\",\"#2f4dfb\",\"#2e4cfb\",\"#2e4afb\",\"#2e48fb\",\"#2e47fa\",\"#2d45fa\",\"#2d43fa\",\"#2d42fa\",\"#2d40fa\",\"#2c3efa\",\"#2c3dfa\",\"#2b3bf9\",\"#2b39f9\",\"#2a37f9\",\"#2a36f8\",\"#2934f8\",\"#2832f7\",\"#2831f7\",\"#272ff6\",\"#262ef5\",\"#252cf5\",\"#252af4\",\"#2429f3\",\"#2327f2\",\"#2226f1\",\"#2124f0\",\"#2023ef\",\"#1f22ee\",\"#1e20ed\",\"#1d1feb\",\"#1c1eea\",\"#1b1ce9\",\"#1a1be7\",\"#181ae6\",\"#1719e5\",\"#1618e3\",\"#1417e1\",\"#1316e0\",\"#1215de\",\"#1014dc\",\"#0f13db\",\"#0e12d9\",\"#0d11d7\",\"#0c10d5\",\"#0b0fd3\",\"#0a0ed1\",\"#090dd0\",\"#080dce\",\"#080ccc\",\"#070bca\",\"#070ac8\",\"#0709c6\",\"#0708c4\",\"#0707c2\",\"#0707bf\",\"#0806bd\",\"#0806bb\",\"#0905b9\",\"#0904b7\",\"#0a04b5\",\"#0a04b2\",\"#0b03b0\",\"#0c03ae\",\"#0d02ab\",\"#0e02a9\",\"#0e02a7\",\"#0f02a4\",\"#0f01a2\",\"#1001a0\",\"#10019d\",\"#10019b\",\"#100199\",\"#100197\",\"#100194\",\"#0f0192\",\"#0f0190\",\"#0f018e\",\"#0e018b\",\"#0e0189\",\"#0d0187\",\"#0d0185\",\"#0c0183\",\"#0b0181\",\"#0b017e\",\"#0a017c\",\"#09017a\",\"#090178\",\"#080276\",\"#070274\",\"#060272\",\"#060270\",\"#05026e\",\"#04026c\",\"#030269\",\"#030267\",\"#020265\",\"#010263\",\"#010261\",\"#00025f\",\"#00025d\",\"#00025b\",\"#000259\",\"#000257\",\"#000255\",\"#000154\",\"#000152\",\"#000150\",\"#00004e\"]},\"id\":\"24453\",\"type\":\"LinearColorMapper\"}],\"root_ids\":[\"24418\"]},\"title\":\"Bokeh Application\",\"version\":\"2.4.3\"}};\n",
       "    var render_items = [{\"docid\":\"2ea3376f-a9c7-42b3-b6e1-2a12e86f7e93\",\"root_ids\":[\"24418\"],\"roots\":{\"24418\":\"69f88806-997e-441b-b26d-fbe1ddac7921\"}}];\n",
       "    root.Bokeh.embed.embed_items_notebook(docs_json, render_items);\n",
       "  }\n",
       "  if (root.Bokeh !== undefined && root.Bokeh.Panel !== undefined) {\n",
       "    embed_document(root);\n",
       "  } else {\n",
       "    var attempts = 0;\n",
       "    var timer = setInterval(function(root) {\n",
       "      if (root.Bokeh !== undefined && root.Bokeh.Panel !== undefined) {\n",
       "        clearInterval(timer);\n",
       "        embed_document(root);\n",
       "      } else if (document.readyState == \"complete\") {\n",
       "        attempts++;\n",
       "        if (attempts > 200) {\n",
       "          clearInterval(timer);\n",
       "          console.log(\"Bokeh: ERROR: Unable to run BokehJS code because BokehJS library is missing\");\n",
       "        }\n",
       "      }\n",
       "    }, 25, root)\n",
       "  }\n",
       "})(window);</script>"
      ],
      "text/plain": [
       ":HexTiles   [brand,color]"
      ]
     },
     "execution_count": 29,
     "metadata": {
      "application/vnd.holoviews_exec.v0+json": {
       "id": "24418"
      }
     },
     "output_type": "execute_result"
    }
   ],
   "source": [
    "out = eda.get_bivariate_plots(train_X, x_cols=['brand'], y_cols=['color'])\n",
    "out"
   ]
  },
  {
   "cell_type": "code",
   "execution_count": 30,
   "metadata": {},
   "outputs": [
    {
     "name": "stdout",
     "output_type": "stream",
     "text": [
      "CPU times: user 22 s, sys: 596 ms, total: 22.6 s\n",
      "Wall time: 22.6 s\n"
     ]
    }
   ],
   "source": [
    "%%time\n",
    "# create reports as needed\n",
    "cols = train_X.columns.to_list()\n",
    "all_plots = {}\n",
    "for ii, col1 in enumerate(cols): \n",
    "    for jj in range(ii+1, len(cols)):\n",
    "        col2 = cols[jj]\n",
    "        out = eda.get_bivariate_plots(train_X, x_cols=[col1], y_cols=[col2])\n",
    "        all_plots.update({f'{col2} vs {col1}': out})\n",
    "\n",
    "reports.create_report(all_plots, name='feature_analysis_bivariate')"
   ]
  },
  {
   "cell_type": "markdown",
   "metadata": {},
   "source": [
    "A report containing the bivariate plot is available [here](https://drive.google.com/file/d/1WSGT3586tY-rOmZ57xGILbmL5ll9cSVT/view?usp=sharing)\n",
    "\n",
    "Alternatively, the above plots can be generated as a single html as below. The output from this is available [here](https://drive.google.com/file/d/1A2fz_bjYv8I3iaFDT75JQSDKeJEXxCtp/view?usp=sharing)"
   ]
  },
  {
   "cell_type": "code",
   "execution_count": 31,
   "metadata": {},
   "outputs": [
    {
     "name": "stderr",
     "output_type": "stream",
     "text": [
      "this method is deprecated in favour of `Styler.to_html()`\n"
     ]
    }
   ],
   "source": [
    "reports.feature_interactions(train_X,'./feature_interaction_report.html')"
   ]
  },
  {
   "cell_type": "markdown",
   "metadata": {},
   "source": [
    "### 3.2.3 Key Drivers - Interaction with Target variable"
   ]
  },
  {
   "cell_type": "code",
   "execution_count": 32,
   "metadata": {},
   "outputs": [
    {
     "data": {},
     "metadata": {},
     "output_type": "display_data"
    },
    {
     "data": {},
     "metadata": {},
     "output_type": "display_data"
    },
    {
     "data": {
      "application/vnd.holoviews_exec.v0+json": "",
      "text/html": [
       "<div id='46612'>\n",
       "  <div class=\"bk-root\" id=\"2564f82d-e5d6-47d8-b604-d3b9f16f918f\" data-root-id=\"46612\"></div>\n",
       "</div>\n",
       "<script type=\"application/javascript\">(function(root) {\n",
       "  function embed_document(root) {\n",
       "    var docs_json = {\"f01ffc48-9d98-4e88-91ba-6931f6aaf954\":{\"defs\":[{\"extends\":null,\"module\":null,\"name\":\"ReactiveHTML1\",\"overrides\":[],\"properties\":[]},{\"extends\":null,\"module\":null,\"name\":\"FlexBox1\",\"overrides\":[],\"properties\":[{\"default\":\"flex-start\",\"kind\":null,\"name\":\"align_content\"},{\"default\":\"flex-start\",\"kind\":null,\"name\":\"align_items\"},{\"default\":\"row\",\"kind\":null,\"name\":\"flex_direction\"},{\"default\":\"wrap\",\"kind\":null,\"name\":\"flex_wrap\"},{\"default\":\"flex-start\",\"kind\":null,\"name\":\"justify_content\"}]},{\"extends\":null,\"module\":null,\"name\":\"GridStack1\",\"overrides\":[],\"properties\":[{\"default\":\"warn\",\"kind\":null,\"name\":\"mode\"},{\"default\":null,\"kind\":null,\"name\":\"ncols\"},{\"default\":null,\"kind\":null,\"name\":\"nrows\"},{\"default\":true,\"kind\":null,\"name\":\"allow_resize\"},{\"default\":true,\"kind\":null,\"name\":\"allow_drag\"},{\"default\":[],\"kind\":null,\"name\":\"state\"}]},{\"extends\":null,\"module\":null,\"name\":\"click1\",\"overrides\":[],\"properties\":[{\"default\":\"\",\"kind\":null,\"name\":\"terminal_output\"},{\"default\":\"\",\"kind\":null,\"name\":\"debug_name\"},{\"default\":0,\"kind\":null,\"name\":\"clears\"}]},{\"extends\":null,\"module\":null,\"name\":\"NotificationAreaBase1\",\"overrides\":[],\"properties\":[{\"default\":\"bottom-right\",\"kind\":null,\"name\":\"position\"},{\"default\":0,\"kind\":null,\"name\":\"_clear\"}]},{\"extends\":null,\"module\":null,\"name\":\"NotificationArea1\",\"overrides\":[],\"properties\":[{\"default\":[],\"kind\":null,\"name\":\"notifications\"},{\"default\":\"bottom-right\",\"kind\":null,\"name\":\"position\"},{\"default\":0,\"kind\":null,\"name\":\"_clear\"},{\"default\":[{\"background\":\"#ffc107\",\"icon\":{\"className\":\"fas fa-exclamation-triangle\",\"color\":\"white\",\"tagName\":\"i\"},\"type\":\"warning\"},{\"background\":\"#007bff\",\"icon\":{\"className\":\"fas fa-info-circle\",\"color\":\"white\",\"tagName\":\"i\"},\"type\":\"info\"}],\"kind\":null,\"name\":\"types\"}]},{\"extends\":null,\"module\":null,\"name\":\"Notification\",\"overrides\":[],\"properties\":[{\"default\":null,\"kind\":null,\"name\":\"background\"},{\"default\":3000,\"kind\":null,\"name\":\"duration\"},{\"default\":null,\"kind\":null,\"name\":\"icon\"},{\"default\":\"\",\"kind\":null,\"name\":\"message\"},{\"default\":null,\"kind\":null,\"name\":\"notification_type\"},{\"default\":false,\"kind\":null,\"name\":\"_destroyed\"}]},{\"extends\":null,\"module\":null,\"name\":\"TemplateActions1\",\"overrides\":[],\"properties\":[{\"default\":0,\"kind\":null,\"name\":\"open_modal\"},{\"default\":0,\"kind\":null,\"name\":\"close_modal\"}]},{\"extends\":null,\"module\":null,\"name\":\"MaterialTemplateActions1\",\"overrides\":[],\"properties\":[{\"default\":0,\"kind\":null,\"name\":\"open_modal\"},{\"default\":0,\"kind\":null,\"name\":\"close_modal\"}]}],\"roots\":{\"references\":[{\"attributes\":{\"axis_label\":\"\",\"coordinates\":null,\"formatter\":{\"id\":\"46658\"},\"group\":null,\"major_label_policy\":{\"id\":\"46659\"},\"ticker\":{\"id\":\"46630\"}},\"id\":\"46629\",\"type\":\"CategoricalAxis\"},{\"attributes\":{\"overlay\":{\"id\":\"46637\"}},\"id\":\"46635\",\"type\":\"BoxZoomTool\"},{\"attributes\":{},\"id\":\"46623\",\"type\":\"CategoricalScale\"},{\"attributes\":{},\"id\":\"46655\",\"type\":\"BasicTickFormatter\"},{\"attributes\":{},\"id\":\"46630\",\"type\":\"CategoricalTicker\"},{\"attributes\":{\"fill_alpha\":{\"value\":0.2},\"fill_color\":{\"value\":\"#30a2da\"},\"hatch_alpha\":{\"value\":0.2},\"hatch_color\":{\"value\":\"#30a2da\"},\"height\":{\"value\":0.8},\"line_alpha\":{\"value\":0.2},\"right\":{\"field\":\"Pearson_correlation_with_Target\"},\"y\":{\"field\":\"index\"}},\"id\":\"46650\",\"type\":\"HBar\"},{\"attributes\":{},\"id\":\"46621\",\"type\":\"LinearScale\"},{\"attributes\":{\"margin\":[0,0,0,0],\"tabs\":[{\"id\":\"46670\"},{\"id\":\"46672\"}]},\"id\":\"46612\",\"type\":\"panel.models.tabs.Tabs\"},{\"attributes\":{\"callback\":null,\"renderers\":[{\"id\":\"46651\"}],\"tags\":[\"hv_created\"],\"tooltips\":[[\"index\",\"@{index}\"],[\"Pearson_correlation_with_Target\",\"@{Pearson_correlation_with_Target}\"]]},\"id\":\"46615\",\"type\":\"HoverTool\"},{\"attributes\":{},\"id\":\"46632\",\"type\":\"SaveTool\"},{\"attributes\":{\"coordinates\":null,\"data_source\":{\"id\":\"46645\"},\"glyph\":{\"id\":\"46648\"},\"group\":null,\"hover_glyph\":null,\"muted_glyph\":{\"id\":\"46650\"},\"nonselection_glyph\":{\"id\":\"46649\"},\"selection_glyph\":{\"id\":\"46653\"},\"view\":{\"id\":\"46652\"}},\"id\":\"46651\",\"type\":\"GlyphRenderer\"},{\"attributes\":{},\"id\":\"46659\",\"type\":\"AllLabels\"},{\"attributes\":{\"client_comm_id\":\"0c3be7bbab7e41ddb52f0214434f6e40\",\"comm_id\":\"683195afd2e246718b6440cf490adb26\",\"plot_id\":\"46612\"},\"id\":\"46703\",\"type\":\"panel.models.comm_manager.CommManager\"},{\"attributes\":{\"coordinates\":null,\"group\":null,\"text\":\"Feature Correlation with Target Function\",\"text_color\":\"black\",\"text_font_size\":\"12pt\"},\"id\":\"46617\",\"type\":\"Title\"},{\"attributes\":{\"axis\":{\"id\":\"46625\"},\"coordinates\":null,\"grid_line_color\":null,\"group\":null,\"ticker\":null},\"id\":\"46628\",\"type\":\"Grid\"},{\"attributes\":{},\"id\":\"46646\",\"type\":\"Selection\"},{\"attributes\":{\"data\":{\"Pearson_correlation_with_Target\":{\"__ndarray__\":\"ssja87vNuL/vb7ZpU9KPP4qMFrt4jq4/7y3LKxwcsj9Jnoh1DiK4P8yJ8flF+r8/1P5P5ktbwT96jX5aS1zBP003VT2MF8Q/8aInOEJnzj8K9CMIY2rQP0oDg7F2wNQ/x2x/3p9f1j+xE9A1Z+/ZPymjSDTcUOM/Sd6MIqAA7D9m1EuRMaTsP0PzyjRAA+4/qinhv4E17j8=\",\"dtype\":\"float64\",\"order\":\"little\",\"shape\":[19]},\"index\":[\"business_unit\",\"lock_status\",\"days_since_last_purchase\",\"first_time_customer\",\"order_type\",\"carrier\",\"brand\",\"quantity\",\"tgt_enc_sim_impt_functional_status\",\"tgt_enc_sim_impt_technology\",\"sales_person\",\"color\",\"channel\",\"condition\",\"memory_size\",\"unit_cost\",\"tgt_enc_sim_impt_platforms\",\"model_family\",\"sku\"]},\"selected\":{\"id\":\"46646\"},\"selection_policy\":{\"id\":\"46667\"}},\"id\":\"46645\",\"type\":\"ColumnDataSource\"},{\"attributes\":{\"source\":{\"id\":\"46645\"}},\"id\":\"46652\",\"type\":\"CDSView\"},{\"attributes\":{},\"id\":\"46634\",\"type\":\"WheelZoomTool\"},{\"attributes\":{\"child\":{\"id\":\"46671\"},\"name\":\"mutual_information\",\"title\":\"mutual_information\"},\"id\":\"46672\",\"type\":\"Panel\"},{\"attributes\":{},\"id\":\"46636\",\"type\":\"ResetTool\"},{\"attributes\":{\"below\":[{\"id\":\"46625\"}],\"center\":[{\"id\":\"46628\"},{\"id\":\"46631\"}],\"height\":300,\"left\":[{\"id\":\"46629\"}],\"margin\":[5,5,5,5],\"min_border_bottom\":10,\"min_border_left\":10,\"min_border_right\":10,\"min_border_top\":10,\"renderers\":[{\"id\":\"46651\"}],\"sizing_mode\":\"fixed\",\"title\":{\"id\":\"46617\"},\"toolbar\":{\"id\":\"46638\"},\"width\":700,\"x_range\":{\"id\":\"46613\"},\"x_scale\":{\"id\":\"46621\"},\"y_range\":{\"id\":\"46614\"},\"y_scale\":{\"id\":\"46623\"}},\"id\":\"46616\",\"subtype\":\"Figure\",\"type\":\"Plot\"},{\"attributes\":{},\"id\":\"46667\",\"type\":\"UnionRenderers\"},{\"attributes\":{\"axis_label\":\"Pearson_correlation_with_Target\",\"coordinates\":null,\"formatter\":{\"id\":\"46655\"},\"group\":null,\"major_label_policy\":{\"id\":\"46656\"},\"ticker\":{\"id\":\"46626\"}},\"id\":\"46625\",\"type\":\"LinearAxis\"},{\"attributes\":{\"tools\":[{\"id\":\"46615\"},{\"id\":\"46632\"},{\"id\":\"46633\"},{\"id\":\"46634\"},{\"id\":\"46635\"},{\"id\":\"46636\"}]},\"id\":\"46638\",\"type\":\"Toolbar\"},{\"attributes\":{\"fill_alpha\":{\"value\":1.0},\"fill_color\":{\"value\":\"#30a2da\"},\"hatch_alpha\":{\"value\":1.0},\"hatch_color\":{\"value\":\"#30a2da\"},\"hatch_scale\":{\"value\":12.0},\"hatch_weight\":{\"value\":1.0},\"height\":{\"value\":0.8},\"left\":{\"value\":0},\"line_alpha\":{\"value\":1.0},\"line_cap\":{\"value\":\"butt\"},\"line_color\":{\"value\":\"black\"},\"line_dash\":{\"value\":[]},\"line_dash_offset\":{\"value\":0},\"line_join\":{\"value\":\"bevel\"},\"line_width\":{\"value\":1},\"right\":{\"field\":\"Pearson_correlation_with_Target\"},\"y\":{\"field\":\"index\"}},\"id\":\"46653\",\"type\":\"HBar\"},{\"attributes\":{\"axis\":{\"id\":\"46629\"},\"coordinates\":null,\"dimension\":1,\"grid_line_color\":null,\"group\":null,\"ticker\":null},\"id\":\"46631\",\"type\":\"Grid\"},{\"attributes\":{\"css_classes\":[\"markdown\"],\"margin\":[5,5,5,5],\"name\":\"mutual_information\",\"text\":\"&lt;p&gt;Cannot generate. Error - Unknown label type: &amp;lsquo;continuous&amp;rsquo;&lt;/p&gt;\"},\"id\":\"46671\",\"type\":\"panel.models.markup.HTML\"},{\"attributes\":{},\"id\":\"46656\",\"type\":\"AllLabels\"},{\"attributes\":{\"factors\":[\"business_unit\",\"lock_status\",\"days_since_last_purchase\",\"first_time_customer\",\"order_type\",\"carrier\",\"brand\",\"quantity\",\"tgt_enc_sim_impt_functional_status\",\"tgt_enc_sim_impt_technology\",\"sales_person\",\"color\",\"channel\",\"condition\",\"memory_size\",\"unit_cost\",\"tgt_enc_sim_impt_platforms\",\"model_family\",\"sku\"],\"tags\":[[[\"index\",\"index\",null]]]},\"id\":\"46614\",\"type\":\"FactorRange\"},{\"attributes\":{\"child\":{\"id\":\"46616\"},\"name\":\"feature_correlation\",\"title\":\"feature_correlation\"},\"id\":\"46670\",\"type\":\"Panel\"},{\"attributes\":{\"fill_color\":{\"value\":\"#30a2da\"},\"hatch_color\":{\"value\":\"#30a2da\"},\"height\":{\"value\":0.8},\"right\":{\"field\":\"Pearson_correlation_with_Target\"},\"y\":{\"field\":\"index\"}},\"id\":\"46648\",\"type\":\"HBar\"},{\"attributes\":{\"end\":1.0481236810156684,\"reset_end\":1.0481236810156684,\"reset_start\":-0.20098133965947687,\"start\":-0.20098133965947687,\"tags\":[[[\"Pearson_correlation_with_Target\",\"Pearson_correlation_with_Target\",null]]]},\"id\":\"46613\",\"type\":\"Range1d\"},{\"attributes\":{\"bottom_units\":\"screen\",\"coordinates\":null,\"fill_alpha\":0.5,\"fill_color\":\"lightgrey\",\"group\":null,\"left_units\":\"screen\",\"level\":\"overlay\",\"line_alpha\":1.0,\"line_color\":\"black\",\"line_dash\":[4,4],\"line_width\":2,\"right_units\":\"screen\",\"syncable\":false,\"top_units\":\"screen\"},\"id\":\"46637\",\"type\":\"BoxAnnotation\"},{\"attributes\":{},\"id\":\"46633\",\"type\":\"PanTool\"},{\"attributes\":{},\"id\":\"46658\",\"type\":\"CategoricalTickFormatter\"},{\"attributes\":{\"fill_alpha\":{\"value\":0.1},\"fill_color\":{\"value\":\"#30a2da\"},\"hatch_alpha\":{\"value\":0.1},\"hatch_color\":{\"value\":\"#30a2da\"},\"height\":{\"value\":0.8},\"line_alpha\":{\"value\":0.1},\"right\":{\"field\":\"Pearson_correlation_with_Target\"},\"y\":{\"field\":\"index\"}},\"id\":\"46649\",\"type\":\"HBar\"},{\"attributes\":{},\"id\":\"46626\",\"type\":\"BasicTicker\"}],\"root_ids\":[\"46612\",\"46703\"]},\"title\":\"Bokeh Application\",\"version\":\"2.4.3\"}};\n",
       "    var render_items = [{\"docid\":\"f01ffc48-9d98-4e88-91ba-6931f6aaf954\",\"root_ids\":[\"46612\"],\"roots\":{\"46612\":\"2564f82d-e5d6-47d8-b604-d3b9f16f918f\"}}];\n",
       "    root.Bokeh.embed.embed_items_notebook(docs_json, render_items);\n",
       "  }\n",
       "  if (root.Bokeh !== undefined && root.Bokeh.Panel !== undefined) {\n",
       "    embed_document(root);\n",
       "  } else {\n",
       "    var attempts = 0;\n",
       "    var timer = setInterval(function(root) {\n",
       "      if (root.Bokeh !== undefined && root.Bokeh.Panel !== undefined) {\n",
       "        clearInterval(timer);\n",
       "        embed_document(root);\n",
       "      } else if (document.readyState == \"complete\") {\n",
       "        attempts++;\n",
       "        if (attempts > 200) {\n",
       "          clearInterval(timer);\n",
       "          console.log(\"Bokeh: ERROR: Unable to run BokehJS code because BokehJS library is missing\");\n",
       "        }\n",
       "      }\n",
       "    }, 25, root)\n",
       "  }\n",
       "})(window);</script>"
      ],
      "text/plain": [
       "Tabs\n",
       "    [0] HoloViews(Bars, name='feature_correlation')\n",
       "    [1] Markdown(str, name='mutual_information')"
      ]
     },
     "execution_count": 32,
     "metadata": {
      "application/vnd.holoviews_exec.v0+json": {
       "id": "46612"
      }
     },
     "output_type": "execute_result"
    }
   ],
   "source": [
    "out = eda.get_target_correlation(train_X, train_y)\n",
    "display_as_tabs([(k, v) for k,v in out.items()])"
   ]
  },
  {
   "cell_type": "code",
   "execution_count": 33,
   "metadata": {},
   "outputs": [
    {
     "data": {
      "text/plain": [
       "0         170.0\n",
       "1          55.0\n",
       "2         110.0\n",
       "3          88.0\n",
       "4          51.0\n",
       "          ...  \n",
       "139842    160.0\n",
       "139843    130.0\n",
       "139844     90.0\n",
       "139845     35.0\n",
       "139846    105.0\n",
       "Name: unit_price, Length: 139847, dtype: float64"
      ]
     },
     "execution_count": 33,
     "metadata": {},
     "output_type": "execute_result"
    }
   ],
   "source": [
    "train_y['unit_price']"
   ]
  },
  {
   "cell_type": "code",
   "execution_count": 34,
   "metadata": {},
   "outputs": [
    {
     "data": {},
     "metadata": {},
     "output_type": "display_data"
    },
    {
     "data": {},
     "metadata": {},
     "output_type": "display_data"
    },
    {
     "data": {
      "application/vnd.holoviews_exec.v0+json": "",
      "text/html": [
       "<div id='46754'>\n",
       "  <div class=\"bk-root\" id=\"0a122347-b020-49e4-8943-a56c81171db4\" data-root-id=\"46754\"></div>\n",
       "</div>\n",
       "<script type=\"application/javascript\">(function(root) {\n",
       "  function embed_document(root) {\n",
       "    var docs_json = {\"8a9d8495-6516-436a-b584-86155fa1be66\":{\"defs\":[{\"extends\":null,\"module\":null,\"name\":\"ReactiveHTML1\",\"overrides\":[],\"properties\":[]},{\"extends\":null,\"module\":null,\"name\":\"FlexBox1\",\"overrides\":[],\"properties\":[{\"default\":\"flex-start\",\"kind\":null,\"name\":\"align_content\"},{\"default\":\"flex-start\",\"kind\":null,\"name\":\"align_items\"},{\"default\":\"row\",\"kind\":null,\"name\":\"flex_direction\"},{\"default\":\"wrap\",\"kind\":null,\"name\":\"flex_wrap\"},{\"default\":\"flex-start\",\"kind\":null,\"name\":\"justify_content\"}]},{\"extends\":null,\"module\":null,\"name\":\"GridStack1\",\"overrides\":[],\"properties\":[{\"default\":\"warn\",\"kind\":null,\"name\":\"mode\"},{\"default\":null,\"kind\":null,\"name\":\"ncols\"},{\"default\":null,\"kind\":null,\"name\":\"nrows\"},{\"default\":true,\"kind\":null,\"name\":\"allow_resize\"},{\"default\":true,\"kind\":null,\"name\":\"allow_drag\"},{\"default\":[],\"kind\":null,\"name\":\"state\"}]},{\"extends\":null,\"module\":null,\"name\":\"click1\",\"overrides\":[],\"properties\":[{\"default\":\"\",\"kind\":null,\"name\":\"terminal_output\"},{\"default\":\"\",\"kind\":null,\"name\":\"debug_name\"},{\"default\":0,\"kind\":null,\"name\":\"clears\"}]},{\"extends\":null,\"module\":null,\"name\":\"NotificationAreaBase1\",\"overrides\":[],\"properties\":[{\"default\":\"bottom-right\",\"kind\":null,\"name\":\"position\"},{\"default\":0,\"kind\":null,\"name\":\"_clear\"}]},{\"extends\":null,\"module\":null,\"name\":\"NotificationArea1\",\"overrides\":[],\"properties\":[{\"default\":[],\"kind\":null,\"name\":\"notifications\"},{\"default\":\"bottom-right\",\"kind\":null,\"name\":\"position\"},{\"default\":0,\"kind\":null,\"name\":\"_clear\"},{\"default\":[{\"background\":\"#ffc107\",\"icon\":{\"className\":\"fas fa-exclamation-triangle\",\"color\":\"white\",\"tagName\":\"i\"},\"type\":\"warning\"},{\"background\":\"#007bff\",\"icon\":{\"className\":\"fas fa-info-circle\",\"color\":\"white\",\"tagName\":\"i\"},\"type\":\"info\"}],\"kind\":null,\"name\":\"types\"}]},{\"extends\":null,\"module\":null,\"name\":\"Notification\",\"overrides\":[],\"properties\":[{\"default\":null,\"kind\":null,\"name\":\"background\"},{\"default\":3000,\"kind\":null,\"name\":\"duration\"},{\"default\":null,\"kind\":null,\"name\":\"icon\"},{\"default\":\"\",\"kind\":null,\"name\":\"message\"},{\"default\":null,\"kind\":null,\"name\":\"notification_type\"},{\"default\":false,\"kind\":null,\"name\":\"_destroyed\"}]},{\"extends\":null,\"module\":null,\"name\":\"TemplateActions1\",\"overrides\":[],\"properties\":[{\"default\":0,\"kind\":null,\"name\":\"open_modal\"},{\"default\":0,\"kind\":null,\"name\":\"close_modal\"}]},{\"extends\":null,\"module\":null,\"name\":\"MaterialTemplateActions1\",\"overrides\":[],\"properties\":[{\"default\":0,\"kind\":null,\"name\":\"open_modal\"},{\"default\":0,\"kind\":null,\"name\":\"close_modal\"}]}],\"roots\":{\"references\":[{\"attributes\":{\"tools\":[{\"id\":\"46757\"},{\"id\":\"46774\"},{\"id\":\"46775\"},{\"id\":\"46776\"},{\"id\":\"46777\"},{\"id\":\"46778\"}]},\"id\":\"46780\",\"type\":\"Toolbar\"},{\"attributes\":{},\"id\":\"46774\",\"type\":\"SaveTool\"},{\"attributes\":{\"child\":{\"id\":\"46813\"},\"name\":\"shap_values\",\"title\":\"shap_values\"},\"id\":\"46814\",\"type\":\"Panel\"},{\"attributes\":{},\"id\":\"46798\",\"type\":\"AllLabels\"},{\"attributes\":{\"coordinates\":null,\"group\":null,\"text\":\"Feature Importances from LassoCV\",\"text_color\":\"black\",\"text_font_size\":\"12pt\"},\"id\":\"46759\",\"type\":\"Title\"},{\"attributes\":{},\"id\":\"46772\",\"type\":\"CategoricalTicker\"},{\"attributes\":{\"fill_color\":{\"value\":\"#30a2da\"},\"hatch_color\":{\"value\":\"#30a2da\"},\"height\":{\"value\":0.8},\"right\":{\"field\":\"importance\"},\"y\":{\"field\":\"index\"}},\"id\":\"46790\",\"type\":\"HBar\"},{\"attributes\":{\"data\":{\"importance\":{\"__ndarray__\":\"Jsvb6ZFzpsBbBnXmLjp2wBYefnM02G3AAAAAAAAAAIAAAAAAAAAAAAAAAAAAAAAAAAAAAAAAAAAAAAAAAAAAgF7r9/0wOj1AcLP1+axRVEA0qzZ5ouaYQGLarGQ4taFA2/erYJwLp0Ac4cByaLmrQPPOFkZ0xrBAA6p7A2SEuUA5jTHl91u+QLsoynv4JMRAzdjzUchrykA=\",\"dtype\":\"float64\",\"order\":\"little\",\"shape\":[19]},\"index\":[\"tgt_enc_sim_impt_functional_status\",\"color\",\"tgt_enc_sim_impt_technology\",\"tgt_enc_sim_impt_platforms\",\"days_since_last_purchase\",\"first_time_customer\",\"lock_status\",\"carrier\",\"quantity\",\"memory_size\",\"channel\",\"brand\",\"unit_cost\",\"sales_person\",\"order_type\",\"condition\",\"business_unit\",\"sku\",\"model_family\"]},\"selected\":{\"id\":\"46788\"},\"selection_policy\":{\"id\":\"46809\"}},\"id\":\"46787\",\"type\":\"ColumnDataSource\"},{\"attributes\":{},\"id\":\"46801\",\"type\":\"AllLabels\"},{\"attributes\":{\"callback\":null,\"renderers\":[{\"id\":\"46793\"}],\"tags\":[\"hv_created\"],\"tooltips\":[[\"index\",\"@{index}\"],[\"importance\",\"@{importance}\"]]},\"id\":\"46757\",\"type\":\"HoverTool\"},{\"attributes\":{},\"id\":\"46800\",\"type\":\"CategoricalTickFormatter\"},{\"attributes\":{\"fill_alpha\":{\"value\":1.0},\"fill_color\":{\"value\":\"#30a2da\"},\"hatch_alpha\":{\"value\":1.0},\"hatch_color\":{\"value\":\"#30a2da\"},\"hatch_scale\":{\"value\":12.0},\"hatch_weight\":{\"value\":1.0},\"height\":{\"value\":0.8},\"left\":{\"value\":0},\"line_alpha\":{\"value\":1.0},\"line_cap\":{\"value\":\"butt\"},\"line_color\":{\"value\":\"black\"},\"line_dash\":{\"value\":[]},\"line_dash_offset\":{\"value\":0},\"line_join\":{\"value\":\"bevel\"},\"line_width\":{\"value\":1},\"right\":{\"field\":\"importance\"},\"y\":{\"field\":\"index\"}},\"id\":\"46795\",\"type\":\"HBar\"},{\"attributes\":{},\"id\":\"46788\",\"type\":\"Selection\"},{\"attributes\":{\"child\":{\"id\":\"46758\"},\"name\":\"from_model\",\"title\":\"from_model\"},\"id\":\"46812\",\"type\":\"Panel\"},{\"attributes\":{\"factors\":[\"tgt_enc_sim_impt_functional_status\",\"color\",\"tgt_enc_sim_impt_technology\",\"tgt_enc_sim_impt_platforms\",\"days_since_last_purchase\",\"first_time_customer\",\"lock_status\",\"carrier\",\"quantity\",\"memory_size\",\"channel\",\"brand\",\"unit_cost\",\"sales_person\",\"order_type\",\"condition\",\"business_unit\",\"sku\",\"model_family\"],\"tags\":[[[\"index\",\"index\",null]]]},\"id\":\"46756\",\"type\":\"FactorRange\"},{\"attributes\":{},\"id\":\"46768\",\"type\":\"BasicTicker\"},{\"attributes\":{},\"id\":\"46763\",\"type\":\"LinearScale\"},{\"attributes\":{\"axis_label\":\"Features\",\"coordinates\":null,\"formatter\":{\"id\":\"46800\"},\"group\":null,\"major_label_policy\":{\"id\":\"46801\"},\"ticker\":{\"id\":\"46772\"}},\"id\":\"46771\",\"type\":\"CategoricalAxis\"},{\"attributes\":{},\"id\":\"46765\",\"type\":\"CategoricalScale\"},{\"attributes\":{\"client_comm_id\":\"ba050c0bf5094434b4e201e5f0b27faa\",\"comm_id\":\"8cc81a2ad56545a5ae0ef5a03232a7c7\",\"plot_id\":\"46754\"},\"id\":\"46845\",\"type\":\"panel.models.comm_manager.CommManager\"},{\"attributes\":{\"bottom_units\":\"screen\",\"coordinates\":null,\"fill_alpha\":0.5,\"fill_color\":\"lightgrey\",\"group\":null,\"left_units\":\"screen\",\"level\":\"overlay\",\"line_alpha\":1.0,\"line_color\":\"black\",\"line_dash\":[4,4],\"line_width\":2,\"right_units\":\"screen\",\"syncable\":false,\"top_units\":\"screen\"},\"id\":\"46779\",\"type\":\"BoxAnnotation\"},{\"attributes\":{\"height\":910,\"margin\":[5,5,5,5],\"name\":\"shap_values\",\"text\":\"&lt;img src=&quot;data:image/png;base64,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&quot; width=&quot;800px&quot; height=&quot;910px&quot; alt=&quot;&quot;&gt;&lt;/img&gt;\",\"width\":800},\"id\":\"46813\",\"type\":\"panel.models.markup.HTML\"},{\"attributes\":{\"end\":15167.699999824334,\"reset_end\":15167.699999824334,\"reset_start\":-4513.919986155976,\"start\":-4513.919986155976,\"tags\":[[[\"importance\",\"importance\",null]]]},\"id\":\"46755\",\"type\":\"Range1d\"},{\"attributes\":{\"fill_alpha\":{\"value\":0.1},\"fill_color\":{\"value\":\"#30a2da\"},\"hatch_alpha\":{\"value\":0.1},\"hatch_color\":{\"value\":\"#30a2da\"},\"height\":{\"value\":0.8},\"line_alpha\":{\"value\":0.1},\"right\":{\"field\":\"importance\"},\"y\":{\"field\":\"index\"}},\"id\":\"46791\",\"type\":\"HBar\"},{\"attributes\":{},\"id\":\"46776\",\"type\":\"WheelZoomTool\"},{\"attributes\":{},\"id\":\"46797\",\"type\":\"BasicTickFormatter\"},{\"attributes\":{\"below\":[{\"id\":\"46767\"}],\"center\":[{\"id\":\"46770\"},{\"id\":\"46773\"}],\"height\":300,\"left\":[{\"id\":\"46771\"}],\"margin\":[5,5,5,5],\"min_border_bottom\":10,\"min_border_left\":10,\"min_border_right\":10,\"min_border_top\":10,\"renderers\":[{\"id\":\"46793\"}],\"sizing_mode\":\"fixed\",\"title\":{\"id\":\"46759\"},\"toolbar\":{\"id\":\"46780\"},\"width\":700,\"x_range\":{\"id\":\"46755\"},\"x_scale\":{\"id\":\"46763\"},\"y_range\":{\"id\":\"46756\"},\"y_scale\":{\"id\":\"46765\"}},\"id\":\"46758\",\"subtype\":\"Figure\",\"type\":\"Plot\"},{\"attributes\":{},\"id\":\"46809\",\"type\":\"UnionRenderers\"},{\"attributes\":{\"fill_alpha\":{\"value\":0.2},\"fill_color\":{\"value\":\"#30a2da\"},\"hatch_alpha\":{\"value\":0.2},\"hatch_color\":{\"value\":\"#30a2da\"},\"height\":{\"value\":0.8},\"line_alpha\":{\"value\":0.2},\"right\":{\"field\":\"importance\"},\"y\":{\"field\":\"index\"}},\"id\":\"46792\",\"type\":\"HBar\"},{\"attributes\":{\"coordinates\":null,\"data_source\":{\"id\":\"46787\"},\"glyph\":{\"id\":\"46790\"},\"group\":null,\"hover_glyph\":null,\"muted_glyph\":{\"id\":\"46792\"},\"nonselection_glyph\":{\"id\":\"46791\"},\"selection_glyph\":{\"id\":\"46795\"},\"view\":{\"id\":\"46794\"}},\"id\":\"46793\",\"type\":\"GlyphRenderer\"},{\"attributes\":{\"margin\":[0,0,0,0],\"tabs\":[{\"id\":\"46812\"},{\"id\":\"46814\"}]},\"id\":\"46754\",\"type\":\"panel.models.tabs.Tabs\"},{\"attributes\":{\"axis_label\":\"Feature Importance [determined by coeff * mean(x)]\",\"coordinates\":null,\"formatter\":{\"id\":\"46797\"},\"group\":null,\"major_label_policy\":{\"id\":\"46798\"},\"ticker\":{\"id\":\"46768\"}},\"id\":\"46767\",\"type\":\"LinearAxis\"},{\"attributes\":{\"axis\":{\"id\":\"46771\"},\"coordinates\":null,\"dimension\":1,\"grid_line_color\":null,\"group\":null,\"ticker\":null},\"id\":\"46773\",\"type\":\"Grid\"},{\"attributes\":{\"source\":{\"id\":\"46787\"}},\"id\":\"46794\",\"type\":\"CDSView\"},{\"attributes\":{},\"id\":\"46775\",\"type\":\"PanTool\"},{\"attributes\":{},\"id\":\"46778\",\"type\":\"ResetTool\"},{\"attributes\":{\"overlay\":{\"id\":\"46779\"}},\"id\":\"46777\",\"type\":\"BoxZoomTool\"},{\"attributes\":{\"axis\":{\"id\":\"46767\"},\"coordinates\":null,\"grid_line_color\":null,\"group\":null,\"ticker\":null},\"id\":\"46770\",\"type\":\"Grid\"}],\"root_ids\":[\"46754\",\"46845\"]},\"title\":\"Bokeh Application\",\"version\":\"2.4.3\"}};\n",
       "    var render_items = [{\"docid\":\"8a9d8495-6516-436a-b584-86155fa1be66\",\"root_ids\":[\"46754\"],\"roots\":{\"46754\":\"0a122347-b020-49e4-8943-a56c81171db4\"}}];\n",
       "    root.Bokeh.embed.embed_items_notebook(docs_json, render_items);\n",
       "  }\n",
       "  if (root.Bokeh !== undefined && root.Bokeh.Panel !== undefined) {\n",
       "    embed_document(root);\n",
       "  } else {\n",
       "    var attempts = 0;\n",
       "    var timer = setInterval(function(root) {\n",
       "      if (root.Bokeh !== undefined && root.Bokeh.Panel !== undefined) {\n",
       "        clearInterval(timer);\n",
       "        embed_document(root);\n",
       "      } else if (document.readyState == \"complete\") {\n",
       "        attempts++;\n",
       "        if (attempts > 200) {\n",
       "          clearInterval(timer);\n",
       "          console.log(\"Bokeh: ERROR: Unable to run BokehJS code because BokehJS library is missing\");\n",
       "        }\n",
       "      }\n",
       "    }, 25, root)\n",
       "  }\n",
       "})(window);</script>"
      ],
      "text/plain": [
       "Tabs\n",
       "    [0] HoloViews(Bars, name='from_model')\n",
       "    [1] Matplotlib(Figure, name='shap_values')"
      ]
     },
     "execution_count": 34,
     "metadata": {
      "application/vnd.holoviews_exec.v0+json": {
       "id": "46754"
      }
     },
     "output_type": "execute_result"
    }
   ],
   "source": [
    "out = eda.get_feature_importances(train_X, train_y, y_continuous=True)\n",
    "display_as_tabs([(k, v) for k,v in out.items()])"
   ]
  },
  {
   "cell_type": "markdown",
   "metadata": {},
   "source": [
    "Key drivers report like feature importance, bivariate plots can be obtained as below"
   ]
  },
  {
   "cell_type": "code",
   "execution_count": 35,
   "metadata": {},
   "outputs": [],
   "source": [
    "reports.key_drivers(train_X,train_y, './key_drivers_report.html', y_continuous=True)"
   ]
  },
  {
   "cell_type": "markdown",
   "metadata": {},
   "source": [
    "**Dev Notes**\n",
    "<details>\n",
    "    \n",
    "- The SHAP plots and bivariate plots in key drivers reports can be obtained by including quick=False as a parameter to key_drivers function call. \n",
    "- SHAP plots and bivariate plots often take long depending on data shape.\n",
    "- The plot with shap is present [here](https://drive.google.com/file/d/1JOTMBLiv3LEqZ-kxZz0RokW9v5UyiGva/view?usp=sharing)\n",
    "\n",
    "</details>"
   ]
  },
  {
   "cell_type": "markdown",
   "metadata": {},
   "source": [
    "\n",
    "All the plots like feature analysis, interaction, key drivers can be obtained as a single plot using data exploration method as shown below. The output from this is available [here](https://drive.google.com/file/d/1209MzmSSEhiTYuPfHpaVXFXUVbkaJm0B/view?usp=sharing)"
   ]
  },
  {
   "cell_type": "code",
   "execution_count": 36,
   "metadata": {},
   "outputs": [
    {
     "name": "stderr",
     "output_type": "stream",
     "text": [
      "p-value may not be accurate for N > 5000.\n",
      "this method is deprecated in favour of `Styler.to_html()`\n"
     ]
    }
   ],
   "source": [
    "reports.data_exploration(train_X,train_y,'./data_exploration_report.html', y_continuous=True)"
   ]
  },
  {
   "cell_type": "code",
   "execution_count": 37,
   "metadata": {},
   "outputs": [],
   "source": [
    "# saving the list of relevant columns\n",
    "save_pipeline(curated_columns, op.abspath(op.join(artifacts_folder, 'curated_columns.joblib')))\n",
    "\n",
    "# save the feature pipeline\n",
    "save_pipeline(features_transformer, op.abspath(op.join(artifacts_folder, 'features.joblib')))"
   ]
  },
  {
   "cell_type": "markdown",
   "metadata": {},
   "source": [
    "# 4 Modelling"
   ]
  },
  {
   "cell_type": "markdown",
   "metadata": {},
   "source": [
    "## 4.1 Modelling - Linear Regression"
   ]
  },
  {
   "cell_type": "markdown",
   "metadata": {},
   "source": [
    "### 4.1.1 Feature Selection(Specific to Regression)\n",
    "\n",
    "- Selecting Features specific to regression\n",
    "- VIF : measure of the amount of multi-collinearity in a set of multiple regressor variables. \n",
    "- On a case to case basis VIF thresholds change. Generally 5 or 10 are acceptable levels.\n",
    "- Usually on a recursive basis when removing the most collinear variable, there can be shuffle in VIF. \n",
    "- Often this section will not be part of the production code."
   ]
  },
  {
   "cell_type": "code",
   "execution_count": 38,
   "metadata": {},
   "outputs": [],
   "source": [
    "cols = list(train_X.columns)\n",
    "vif = eda.calc_vif(train_X)\n",
    "while max(vif.VIF) > 15:\n",
    "    #removing the largest variable from VIF\n",
    "    cols.remove(vif[(vif.VIF==vif.VIF.max())].variables.tolist()[0])\n",
    "    vif = eda.calc_vif(train_X[cols])"
   ]
  },
  {
   "cell_type": "code",
   "execution_count": 39,
   "metadata": {},
   "outputs": [],
   "source": [
    "reg_vars = vif.query('VIF < 15').variables\n",
    "reg_vars = list(reg_vars)"
   ]
  },
  {
   "cell_type": "markdown",
   "metadata": {},
   "source": [
    "### 4.1.2 Data transformations"
   ]
  },
  {
   "cell_type": "code",
   "execution_count": 40,
   "metadata": {},
   "outputs": [],
   "source": [
    "# Custom Transformations like these can be utilised\n",
    "def _custom_data_transform(df, cols2keep=None):\n",
    "    \"\"\"Transformation to drop some columns in the data\n",
    "    \n",
    "    Parameters\n",
    "    ----------\n",
    "        df - pd.DataFrame\n",
    "        cols2keep - columns to keep in the dataframe\n",
    "    \"\"\"\n",
    "    cols2keep = cols2keep or []\n",
    "    if len(cols2keep):\n",
    "        return (df\n",
    "                .select_columns(cols2keep))\n",
    "    else:\n",
    "        return df"
   ]
  },
  {
   "cell_type": "markdown",
   "metadata": {},
   "source": [
    "### 4.1.3 Model training pipeline\n",
    "\n",
    "- Here we focus on creating a collection of pipelines that can be used for training respective models.\n",
    "- Each model pipeline will essentially be of the form\n",
    "```\n",
    "[\n",
    "('preprocessing', preprocessing_pipeline),\n",
    "('feature_selection', feature_selection_pipeline),\n",
    "('estimator', estimator),\n",
    "]\n",
    "```"
   ]
  },
  {
   "cell_type": "markdown",
   "metadata": {},
   "source": [
    "### 4.1.4 Model Pipeline Build\n",
    "\n",
    "- This will be part of the production code (training only)."
   ]
  },
  {
   "cell_type": "code",
   "execution_count": 41,
   "metadata": {},
   "outputs": [
    {
     "data": {
      "text/plain": [
       "Pipeline(steps=[('',\n",
       "                 FunctionTransformer(func=<function _custom_data_transform at 0x7fd680ea2d30>,\n",
       "                                     kw_args={'cols2keep': ['memory_size',\n",
       "                                                            'unit_cost',\n",
       "                                                            'tgt_enc_sim_impt_platforms',\n",
       "                                                            'first_time_customer',\n",
       "                                                            'condition',\n",
       "                                                            'quantity',\n",
       "                                                            'days_since_last_purchase',\n",
       "                                                            'channel',\n",
       "                                                            'color']})),\n",
       "                ('estimator', SKLStatsmodelOLS())])"
      ]
     },
     "execution_count": 41,
     "metadata": {},
     "output_type": "execute_result"
    }
   ],
   "source": [
    "reg_ppln_ols = Pipeline([\n",
    "    ('',FunctionTransformer(_custom_data_transform, kw_args={'cols2keep':reg_vars})),\n",
    "    ('estimator', SKLStatsmodelOLS())\n",
    "])\n",
    "reg_ppln_ols.fit(train_X, train_y.values.ravel())\n"
   ]
  },
  {
   "cell_type": "code",
   "execution_count": 42,
   "metadata": {},
   "outputs": [
    {
     "data": {
      "text/html": [
       "<table class=\"simpletable\">\n",
       "<caption>OLS Regression Results</caption>\n",
       "<tr>\n",
       "  <th>Dep. Variable:</th>            <td>y</td>        <th>  R-squared:         </th>  <td>   0.886</td>  \n",
       "</tr>\n",
       "<tr>\n",
       "  <th>Model:</th>                   <td>OLS</td>       <th>  Adj. R-squared:    </th>  <td>   0.886</td>  \n",
       "</tr>\n",
       "<tr>\n",
       "  <th>Method:</th>             <td>Least Squares</td>  <th>  F-statistic:       </th>  <td>1.205e+05</td> \n",
       "</tr>\n",
       "<tr>\n",
       "  <th>Date:</th>             <td>Mon, 25 Jul 2022</td> <th>  Prob (F-statistic):</th>   <td>  0.00</td>   \n",
       "</tr>\n",
       "<tr>\n",
       "  <th>Time:</th>                 <td>11:59:13</td>     <th>  Log-Likelihood:    </th> <td>-7.0720e+05</td>\n",
       "</tr>\n",
       "<tr>\n",
       "  <th>No. Observations:</th>      <td>139847</td>      <th>  AIC:               </th>  <td>1.414e+06</td> \n",
       "</tr>\n",
       "<tr>\n",
       "  <th>Df Residuals:</th>          <td>139837</td>      <th>  BIC:               </th>  <td>1.415e+06</td> \n",
       "</tr>\n",
       "<tr>\n",
       "  <th>Df Model:</th>              <td>     9</td>      <th>                     </th>      <td> </td>     \n",
       "</tr>\n",
       "<tr>\n",
       "  <th>Covariance Type:</th>      <td>nonrobust</td>    <th>                     </th>      <td> </td>     \n",
       "</tr>\n",
       "</table>\n",
       "<table class=\"simpletable\">\n",
       "<tr>\n",
       "               <td></td>                 <th>coef</th>     <th>std err</th>      <th>t</th>      <th>P>|t|</th>  <th>[0.025</th>    <th>0.975]</th>  \n",
       "</tr>\n",
       "<tr>\n",
       "  <th>intercept</th>                  <td>  -66.3704</td> <td>    0.572</td> <td> -115.991</td> <td> 0.000</td> <td>  -67.492</td> <td>  -65.249</td>\n",
       "</tr>\n",
       "<tr>\n",
       "  <th>memory_size</th>                <td>    0.2001</td> <td>    0.002</td> <td>  109.690</td> <td> 0.000</td> <td>    0.197</td> <td>    0.204</td>\n",
       "</tr>\n",
       "<tr>\n",
       "  <th>unit_cost</th>                  <td>    0.4018</td> <td>    0.002</td> <td>  176.506</td> <td> 0.000</td> <td>    0.397</td> <td>    0.406</td>\n",
       "</tr>\n",
       "<tr>\n",
       "  <th>tgt_enc_sim_impt_platforms</th> <td>    0.6000</td> <td>    0.002</td> <td>  329.261</td> <td> 0.000</td> <td>    0.596</td> <td>    0.604</td>\n",
       "</tr>\n",
       "<tr>\n",
       "  <th>first_time_customer</th>        <td>   34.4731</td> <td>    1.085</td> <td>   31.786</td> <td> 0.000</td> <td>   32.347</td> <td>   36.599</td>\n",
       "</tr>\n",
       "<tr>\n",
       "  <th>condition</th>                  <td>    0.3240</td> <td>    0.003</td> <td>  129.540</td> <td> 0.000</td> <td>    0.319</td> <td>    0.329</td>\n",
       "</tr>\n",
       "<tr>\n",
       "  <th>quantity</th>                   <td>   -0.0194</td> <td>    0.003</td> <td>   -7.185</td> <td> 0.000</td> <td>   -0.025</td> <td>   -0.014</td>\n",
       "</tr>\n",
       "<tr>\n",
       "  <th>days_since_last_purchase</th>   <td>    3.2138</td> <td>    0.167</td> <td>   19.201</td> <td> 0.000</td> <td>    2.886</td> <td>    3.542</td>\n",
       "</tr>\n",
       "<tr>\n",
       "  <th>channel</th>                    <td>    0.0133</td> <td>    0.003</td> <td>    4.478</td> <td> 0.000</td> <td>    0.007</td> <td>    0.019</td>\n",
       "</tr>\n",
       "<tr>\n",
       "  <th>color</th>                      <td>    0.0247</td> <td>    0.003</td> <td>    8.307</td> <td> 0.000</td> <td>    0.019</td> <td>    0.031</td>\n",
       "</tr>\n",
       "</table>\n",
       "<table class=\"simpletable\">\n",
       "<tr>\n",
       "  <th>Omnibus:</th>       <td>39540.139</td> <th>  Durbin-Watson:     </th>  <td>   2.006</td>  \n",
       "</tr>\n",
       "<tr>\n",
       "  <th>Prob(Omnibus):</th>  <td> 0.000</td>   <th>  Jarque-Bera (JB):  </th> <td>2389066.457</td>\n",
       "</tr>\n",
       "<tr>\n",
       "  <th>Skew:</th>           <td> 0.512</td>   <th>  Prob(JB):          </th>  <td>    0.00</td>  \n",
       "</tr>\n",
       "<tr>\n",
       "  <th>Kurtosis:</th>       <td>23.223</td>   <th>  Cond. No.          </th>  <td>3.63e+03</td>  \n",
       "</tr>\n",
       "</table><br/><br/>Notes:<br/>[1] Standard Errors assume that the covariance matrix of the errors is correctly specified.<br/>[2] The condition number is large, 3.63e+03. This might indicate that there are<br/>strong multicollinearity or other numerical problems."
      ],
      "text/plain": [
       "<class 'statsmodels.iolib.summary.Summary'>\n",
       "\"\"\"\n",
       "                            OLS Regression Results                            \n",
       "==============================================================================\n",
       "Dep. Variable:                      y   R-squared:                       0.886\n",
       "Model:                            OLS   Adj. R-squared:                  0.886\n",
       "Method:                 Least Squares   F-statistic:                 1.205e+05\n",
       "Date:                Mon, 25 Jul 2022   Prob (F-statistic):               0.00\n",
       "Time:                        11:59:13   Log-Likelihood:            -7.0720e+05\n",
       "No. Observations:              139847   AIC:                         1.414e+06\n",
       "Df Residuals:                  139837   BIC:                         1.415e+06\n",
       "Df Model:                           9                                         \n",
       "Covariance Type:            nonrobust                                         \n",
       "==============================================================================================\n",
       "                                 coef    std err          t      P>|t|      [0.025      0.975]\n",
       "----------------------------------------------------------------------------------------------\n",
       "intercept                    -66.3704      0.572   -115.991      0.000     -67.492     -65.249\n",
       "memory_size                    0.2001      0.002    109.690      0.000       0.197       0.204\n",
       "unit_cost                      0.4018      0.002    176.506      0.000       0.397       0.406\n",
       "tgt_enc_sim_impt_platforms     0.6000      0.002    329.261      0.000       0.596       0.604\n",
       "first_time_customer           34.4731      1.085     31.786      0.000      32.347      36.599\n",
       "condition                      0.3240      0.003    129.540      0.000       0.319       0.329\n",
       "quantity                      -0.0194      0.003     -7.185      0.000      -0.025      -0.014\n",
       "days_since_last_purchase       3.2138      0.167     19.201      0.000       2.886       3.542\n",
       "channel                        0.0133      0.003      4.478      0.000       0.007       0.019\n",
       "color                          0.0247      0.003      8.307      0.000       0.019       0.031\n",
       "==============================================================================\n",
       "Omnibus:                    39540.139   Durbin-Watson:                   2.006\n",
       "Prob(Omnibus):                  0.000   Jarque-Bera (JB):          2389066.457\n",
       "Skew:                           0.512   Prob(JB):                         0.00\n",
       "Kurtosis:                      23.223   Cond. No.                     3.63e+03\n",
       "==============================================================================\n",
       "\n",
       "Notes:\n",
       "[1] Standard Errors assume that the covariance matrix of the errors is correctly specified.\n",
       "[2] The condition number is large, 3.63e+03. This might indicate that there are\n",
       "strong multicollinearity or other numerical problems.\n",
       "\"\"\""
      ]
     },
     "execution_count": 42,
     "metadata": {},
     "output_type": "execute_result"
    }
   ],
   "source": [
    "reg_ppln_ols['estimator'].summary()"
   ]
  },
  {
   "cell_type": "markdown",
   "metadata": {},
   "source": [
    "### 4.1.5 Model Evaluation(Linear Model)\n",
    "\n",
    "This will be part of the production code."
   ]
  },
  {
   "cell_type": "code",
   "execution_count": 43,
   "metadata": {},
   "outputs": [],
   "source": [
    "reg_ppln = Pipeline([\n",
    "    ('', FunctionTransformer(_custom_data_transform, kw_args={'cols2keep':reg_vars})),\n",
    "    ('Linear Regression', SKLStatsmodelOLS())\n",
    "])\n",
    "\n",
    "test_X = get_dataframe(\n",
    "    features_transformer.transform(test_X), \n",
    "    get_feature_names_from_column_transformer(features_transformer)\n",
    ")\n",
    "test_X = test_X[curated_columns]"
   ]
  },
  {
   "cell_type": "code",
   "execution_count": 44,
   "metadata": {},
   "outputs": [
    {
     "name": "stderr",
     "output_type": "stream",
     "text": [
      "Attribute `_pairwise` was deprecated in version 0.24 and will be removed in 1.1 (renaming of 0.26).\n",
      "divide by zero encountered in true_divide\n",
      "divide by zero encountered in true_divide\n",
      "2022-07-25 11:59:14 - WARNING - tigerml.model_eval.plotters.interpretation::get_errorbucket_profiles::849 - Residual Analysis: Ignoring 17 observations in train data for error analysis where y=0\n",
      "2022-07-25 11:59:14 - WARNING - tigerml.model_eval.plotters.interpretation::get_errorbucket_profiles::866 - Residual Analysis: Ignoring 7 observations in test data for error analysis where y=0\n",
      "this method is deprecated in favour of `Styler.to_html()`\n"
     ]
    }
   ],
   "source": [
    "reg_linear_report = RegressionReport(model=reg_ppln, x_train=train_X, y_train=train_y, x_test= test_X, y_test= test_y, refit=True)\n",
    "reg_linear_report.get_report(include_shap=False, file_path='regression_linear_model_report')"
   ]
  },
  {
   "cell_type": "markdown",
   "metadata": {},
   "source": [
    "**Dev Notes**\n",
    "Use SHAP for variable interpretability.\n",
    "<details>\n",
    "\n",
    "    1. Use SHAP=True to generate variable interpretability plots in the report\n",
    "    2. SHAP is recommended for non parameteric models such as RF, xgboost.\n",
    "    3. However, SHAP reports are time consuming depending on no.of records and model complexity.\n",
    "    \n",
    "A sample of regerssion report with SHAP can be found [here](https://drive.google.com/file/d/18RlQTsT1ze09Cgz-qpb4ha_cvyWbN5F5/view?usp=sharing).\n",
    "</details>"
   ]
  },
  {
   "cell_type": "markdown",
   "metadata": {},
   "source": [
    "### 4.1.6 Residual Analysis\n",
    "- After scoring the model, it is recommended to do a residual analysis to know the distribution of errors\n",
    "- we took a threshold of 30% above which it is marked as over prediction or underprediction\n",
    "- This will not be part of the production code."
   ]
  },
  {
   "cell_type": "code",
   "execution_count": 45,
   "metadata": {},
   "outputs": [],
   "source": [
    "threshold=0.3\n",
    "residual_analysis = test_X.copy()\n",
    "residual_analysis['prediction'] = reg_ppln_ols.predict(test_X)\n",
    "residual_analysis['actuals'] = test_y.reset_index(drop = True).iloc[:,0].values\n",
    "residual_analysis['forecast_flag'] = 'good'\n",
    "residual_analysis.loc[((residual_analysis['prediction'] > (1+threshold) * residual_analysis['actuals'])\\\n",
    "                       & (residual_analysis['actuals']>100)),'forecast_flag'] = 'over predict'\n",
    "residual_analysis.loc[((residual_analysis['prediction'] < (1-threshold) * residual_analysis['actuals'])\\\n",
    "                       & (residual_analysis['actuals']>100)),'forecast_flag'] = 'under predict'"
   ]
  },
  {
   "cell_type": "code",
   "execution_count": 46,
   "metadata": {},
   "outputs": [
    {
     "data": {},
     "metadata": {},
     "output_type": "display_data"
    },
    {
     "data": {
      "application/vnd.holoviews_exec.v0+json": "",
      "text/html": [
       "<div id='80331'>\n",
       "  <div class=\"bk-root\" id=\"051376d1-976b-4574-9cb3-c6c58ed25d4c\" data-root-id=\"80331\"></div>\n",
       "</div>\n",
       "<script type=\"application/javascript\">(function(root) {\n",
       "  function embed_document(root) {\n",
       "    var docs_json = {\"c2a370b3-44e2-4fa2-a567-816d928b0108\":{\"defs\":[{\"extends\":null,\"module\":null,\"name\":\"ReactiveHTML1\",\"overrides\":[],\"properties\":[]},{\"extends\":null,\"module\":null,\"name\":\"FlexBox1\",\"overrides\":[],\"properties\":[{\"default\":\"flex-start\",\"kind\":null,\"name\":\"align_content\"},{\"default\":\"flex-start\",\"kind\":null,\"name\":\"align_items\"},{\"default\":\"row\",\"kind\":null,\"name\":\"flex_direction\"},{\"default\":\"wrap\",\"kind\":null,\"name\":\"flex_wrap\"},{\"default\":\"flex-start\",\"kind\":null,\"name\":\"justify_content\"}]},{\"extends\":null,\"module\":null,\"name\":\"GridStack1\",\"overrides\":[],\"properties\":[{\"default\":\"warn\",\"kind\":null,\"name\":\"mode\"},{\"default\":null,\"kind\":null,\"name\":\"ncols\"},{\"default\":null,\"kind\":null,\"name\":\"nrows\"},{\"default\":true,\"kind\":null,\"name\":\"allow_resize\"},{\"default\":true,\"kind\":null,\"name\":\"allow_drag\"},{\"default\":[],\"kind\":null,\"name\":\"state\"}]},{\"extends\":null,\"module\":null,\"name\":\"click1\",\"overrides\":[],\"properties\":[{\"default\":\"\",\"kind\":null,\"name\":\"terminal_output\"},{\"default\":\"\",\"kind\":null,\"name\":\"debug_name\"},{\"default\":0,\"kind\":null,\"name\":\"clears\"}]},{\"extends\":null,\"module\":null,\"name\":\"NotificationAreaBase1\",\"overrides\":[],\"properties\":[{\"default\":\"bottom-right\",\"kind\":null,\"name\":\"position\"},{\"default\":0,\"kind\":null,\"name\":\"_clear\"}]},{\"extends\":null,\"module\":null,\"name\":\"NotificationArea1\",\"overrides\":[],\"properties\":[{\"default\":[],\"kind\":null,\"name\":\"notifications\"},{\"default\":\"bottom-right\",\"kind\":null,\"name\":\"position\"},{\"default\":0,\"kind\":null,\"name\":\"_clear\"},{\"default\":[{\"background\":\"#ffc107\",\"icon\":{\"className\":\"fas fa-exclamation-triangle\",\"color\":\"white\",\"tagName\":\"i\"},\"type\":\"warning\"},{\"background\":\"#007bff\",\"icon\":{\"className\":\"fas fa-info-circle\",\"color\":\"white\",\"tagName\":\"i\"},\"type\":\"info\"}],\"kind\":null,\"name\":\"types\"}]},{\"extends\":null,\"module\":null,\"name\":\"Notification\",\"overrides\":[],\"properties\":[{\"default\":null,\"kind\":null,\"name\":\"background\"},{\"default\":3000,\"kind\":null,\"name\":\"duration\"},{\"default\":null,\"kind\":null,\"name\":\"icon\"},{\"default\":\"\",\"kind\":null,\"name\":\"message\"},{\"default\":null,\"kind\":null,\"name\":\"notification_type\"},{\"default\":false,\"kind\":null,\"name\":\"_destroyed\"}]},{\"extends\":null,\"module\":null,\"name\":\"TemplateActions1\",\"overrides\":[],\"properties\":[{\"default\":0,\"kind\":null,\"name\":\"open_modal\"},{\"default\":0,\"kind\":null,\"name\":\"close_modal\"}]},{\"extends\":null,\"module\":null,\"name\":\"MaterialTemplateActions1\",\"overrides\":[],\"properties\":[{\"default\":0,\"kind\":null,\"name\":\"open_modal\"},{\"default\":0,\"kind\":null,\"name\":\"close_modal\"}]}],\"roots\":{\"references\":[{\"attributes\":{\"fill_alpha\":0.5,\"fill_color\":\"#fc4f30\",\"hatch_alpha\":0.7,\"hatch_color\":\"#fc4f30\",\"line_alpha\":0.7,\"x\":{\"field\":\"x\"},\"y\":{\"field\":\"y\"}},\"id\":\"80416\",\"type\":\"Patch\"},{\"attributes\":{\"fill_alpha\":0.5,\"fill_color\":\"#fc4f30\",\"hatch_alpha\":0.1,\"hatch_color\":\"#fc4f30\",\"line_alpha\":0.7,\"x\":{\"field\":\"x\"},\"y\":{\"field\":\"y\"}},\"id\":\"80399\",\"type\":\"Patch\"},{\"attributes\":{},\"id\":\"80389\",\"type\":\"UnionRenderers\"},{\"attributes\":{\"data\":{\"x\":{\"__ndarray__\":\"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\",\"dtype\":\"float64\",\"order\":\"little\",\"shape\":[200]},\"y\":{\"__ndarray__\":\"AAAAAAAAAAAAAAAAAAAAAAAAAAAAAAAAAAAAAAAAAAAAAAAAAAAAAAAAAAAAAAAAAAAAAAAAAAAAAAAAAAAAAAAAAAAAAAAAAAAAAAAAAAAAAAAAAAAAAAAAAAAAAAAAAAAAAAAAAAAAAAAAAAAAAAAAAAAAAAAAAAAAAAAAAAAAAAAAAAAAAAAAAAAAAAAAAAAAAAAAAAAAAAAAAAAAAAAAAAAAAAAAAAAAAAAAAAAAAAAAAAAAAAAAAAAAAAAAAAAAAAAAAAAAAAAAAAAAAAAAAAAAAAAAAAAAAAAAAAAAAAAAAAAAAAAAAAAAAAAAAAAAAAAAAAAAAAAAAAAAAAAAAAAAAAAAAAAAAAAAAAAAAAAAAAAAAAAAAAAAAAAAAAAAAAAAAAAAAAAAAAAAAAAAAAAAAAAAAAAAAAAAAAAAAAAAAAAAAAAAAAAAAAAAAAAAAAAAAAAAAAAAAAAAAAAAAAAAAAAAAAAAAAAAAAAAAAAAAAAAAAAAAAAAAAAAAAAAAAAAAAAAAAAAAAAAAAAAAAAAAAAAAAAAAAAAAAAAAAAAAAAAAAAAAAAAAAAAAAAAAAAAAAAAAAAAAAAAAAAAAAAAAAAAAAAAAAAAAAAAAAAAAAAAAAAAAAAAAAAAAAAAAAAAAAAAAAAAAAAAAAAAAAAAAAAAAAAAAAAAAAAAAAAAAAAAAAAAAAAAAAAAAAAAAAAAAAAAAAAAAAAAAAAAAAAAAAAAAAAAAAAAAAAAAAAAAAAAAAAAAAAAAAAAAAAAAAAAAAAAAAAAAAAAAAAAAAAAAAAAAAAAAAAAAAAAAAAAAAAAAAAAAAAAAAAAAAAAAAAAAAAAAAAAAAAAAAAAAAAAAAAAAAAAAAAAAAAAAAAAAAAAAAAAAAAAAAAAAAAAAAAAAAAAAAAAAAAAAAAAAAAAAAAAAAAAAAAAAAAAAAAAAAAAAAAAAAAAAAAAAAAAAAAAAAAAAAAAAAAAAAAAAAAAAAAAAAAAAAAAAAAAAAAAAAAAAAAAAAAAAAAAAAAAAAAAAAAAAAAAAAAAAAAAAAAAAAAAAAAAAAAAAAAKHmEnr0aHPh5yYBursZw+gF3X3KgosD6wPoK9mqnAPryVUE1rjM8+QFAJ+BqE2z6UD5eggTTmPpIuLyp7qfA+vn0vB5Zf9z75ax6zr8z+PrGzNWukIgM/hiGtSCl4Bj8Tstwf3/EIP1GaJ5j7LAo/HkBwjpz/CT+qLqwfbJ0IP0ynzyFPogY/qM/hI6LxBD87Sz3MfXAEP7xhyQ4AvAU/P+9lsv4ECT+q3evMhiYOP6inAA/zchI/V8XRsPqVFj9EiGuU94QbP0Wf6kTyoCA/G58cOI7SIz/QtCJoeScnP6nfJ4ryXCo/iQe17XwvLT/MjU1qMmkvP0dliBvocjA/oS9SbqjIMD9QlUuGCrUwP/T/SpitRDA/uqRp5YkrLz/VpVvw2K4tP8WPNGnlgyw/tKqVzXUTLD+dRAUTOaIsPzID2LC9PS4/yqgu3HpeMD8ymoQA5OsxP3WBKkz5pTM/O7HNYOx8NT/Y0YtPQnM3P2oQYsoukjk/ozYjIkvdOz+EcRAq51I+Py+ElvUzfUA/fabnAZv5QT8usBhOXrlDP2nKvCbh1UU/nXjJFv1VSD9cBdlfiiNLP16RPv3xD04/ObOmNghzUD/j3YNjIL9RPzQ1J4ES5FI/Hk/pRS/jUz8qsN5mFcJUP2TlAV7GiFU/z8w5bARGVj+koDZUARdXPzrX2/UdLFg/HdEu/3zGWT+QfYYoCy9cP/rw4Dmuql8/NlWLpR83Yj+5oNf09UhlP9/uIGltAWk/L9sWW9U6bT9dBDnXhNhwP+AM9zdgBHM/j7QbHrfwdD/jPmTFtnV2PwreO/FYe3c/qRKHiMf4dz9XpzGmlu13P+IKNsxRXHc/2DX1d0tNdj+xQHwsGtl0P1hKpEzWMXM/VVxtOFagcT/qp4HhA3FwPwEI4d/eq28/5pAFxxeXbz/4/T8lWQ9wP9N2LsT5MXA/wbOR6LKCbz+s3zUvwPFsP/FLC14evmg/Ayq9BhqBYz+oABIxTzJcP3fQidCxn1I/ICpIqYZuRj9c/UG9xJk4P+n7wDwGiyg/LdxIIuZCFj/YFXydpFkCPw==\",\"dtype\":\"float64\",\"order\":\"little\",\"shape\":[200]}},\"selected\":{\"id\":\"80418\"},\"selection_policy\":{\"id\":\"80436\"}},\"id\":\"80417\",\"type\":\"ColumnDataSource\"},{\"attributes\":{\"label\":{\"value\":\"over predict\"},\"renderers\":[{\"id\":\"80401\"}]},\"id\":\"80415\",\"type\":\"LegendItem\"},{\"attributes\":{},\"id\":\"80343\",\"type\":\"LinearScale\"},{\"attributes\":{\"fill_alpha\":0.2,\"fill_color\":\"#fc4f30\",\"hatch_alpha\":0.2,\"hatch_color\":\"#fc4f30\",\"line_alpha\":0.2,\"x\":{\"field\":\"x\"},\"y\":{\"field\":\"y\"}},\"id\":\"80400\",\"type\":\"Patch\"},{\"attributes\":{},\"id\":\"80436\",\"type\":\"UnionRenderers\"},{\"attributes\":{},\"id\":\"80356\",\"type\":\"PanTool\"},{\"attributes\":{\"label\":{\"value\":\"under predict\"},\"renderers\":[{\"id\":\"80423\"}]},\"id\":\"80439\",\"type\":\"LegendItem\"},{\"attributes\":{\"source\":{\"id\":\"80395\"}},\"id\":\"80402\",\"type\":\"CDSView\"},{\"attributes\":{\"source\":{\"id\":\"80417\"}},\"id\":\"80424\",\"type\":\"CDSView\"},{\"attributes\":{\"fill_alpha\":0.5,\"fill_color\":\"#e5ae38\",\"hatch_alpha\":0.7,\"hatch_color\":\"#e5ae38\",\"line_alpha\":0.7,\"x\":{\"field\":\"x\"},\"y\":{\"field\":\"y\"}},\"id\":\"80440\",\"type\":\"Patch\"},{\"attributes\":{\"margin\":[5,5,5,5],\"name\":\"HSpacer187510\",\"sizing_mode\":\"stretch_width\"},\"id\":\"80553\",\"type\":\"Spacer\"},{\"attributes\":{},\"id\":\"80345\",\"type\":\"LinearScale\"},{\"attributes\":{\"click_policy\":\"mute\",\"coordinates\":null,\"group\":null,\"items\":[{\"id\":\"80393\"},{\"id\":\"80415\"},{\"id\":\"80439\"}],\"title\":\"forecast_flag\"},\"id\":\"80392\",\"type\":\"Legend\"},{\"attributes\":{},\"id\":\"80369\",\"type\":\"BasicTickFormatter\"},{\"attributes\":{\"fill_alpha\":0.5,\"fill_color\":\"#e5ae38\",\"hatch_alpha\":0.1,\"hatch_color\":\"#e5ae38\",\"line_alpha\":0.7,\"x\":{\"field\":\"x\"},\"y\":{\"field\":\"y\"}},\"id\":\"80421\",\"type\":\"Patch\"},{\"attributes\":{\"coordinates\":null,\"data_source\":{\"id\":\"80417\"},\"glyph\":{\"id\":\"80420\"},\"group\":null,\"hover_glyph\":null,\"muted_glyph\":{\"id\":\"80422\"},\"nonselection_glyph\":{\"id\":\"80421\"},\"selection_glyph\":{\"id\":\"80440\"},\"view\":{\"id\":\"80424\"}},\"id\":\"80423\",\"type\":\"GlyphRenderer\"},{\"attributes\":{},\"id\":\"80370\",\"type\":\"AllLabels\"},{\"attributes\":{\"fill_alpha\":0.5,\"fill_color\":\"#e5ae38\",\"hatch_alpha\":0.7,\"hatch_color\":\"#e5ae38\",\"line_alpha\":0.7,\"x\":{\"field\":\"x\"},\"y\":{\"field\":\"y\"}},\"id\":\"80420\",\"type\":\"Patch\"},{\"attributes\":{},\"id\":\"80372\",\"type\":\"BasicTickFormatter\"},{\"attributes\":{\"end\":0.008472318886498461,\"reset_end\":0.008472318886498461,\"reset_start\":0.0,\"tags\":[[[\"unit_cost_density\",\"Density\",null]]]},\"id\":\"80334\",\"type\":\"Range1d\"},{\"attributes\":{\"fill_alpha\":0.2,\"fill_color\":\"#e5ae38\",\"hatch_alpha\":0.2,\"hatch_color\":\"#e5ae38\",\"line_alpha\":0.2,\"x\":{\"field\":\"x\"},\"y\":{\"field\":\"y\"}},\"id\":\"80422\",\"type\":\"Patch\"},{\"attributes\":{},\"id\":\"80412\",\"type\":\"UnionRenderers\"},{\"attributes\":{\"coordinates\":null,\"group\":null,\"text\":\"unit cost(density)\",\"text_color\":\"black\",\"text_font_size\":\"12pt\"},\"id\":\"80339\",\"type\":\"Title\"},{\"attributes\":{},\"id\":\"80418\",\"type\":\"Selection\"},{\"attributes\":{\"coordinates\":null,\"data_source\":{\"id\":\"80395\"},\"glyph\":{\"id\":\"80398\"},\"group\":null,\"hover_glyph\":null,\"muted_glyph\":{\"id\":\"80400\"},\"nonselection_glyph\":{\"id\":\"80399\"},\"selection_glyph\":{\"id\":\"80416\"},\"view\":{\"id\":\"80402\"}},\"id\":\"80401\",\"type\":\"GlyphRenderer\"},{\"attributes\":{\"axis\":{\"id\":\"80351\"},\"coordinates\":null,\"dimension\":1,\"grid_line_color\":null,\"group\":null,\"ticker\":null},\"id\":\"80354\",\"type\":\"Grid\"},{\"attributes\":{\"axis_label\":\"unit_cost\",\"coordinates\":null,\"formatter\":{\"id\":\"80369\"},\"group\":null,\"major_label_policy\":{\"id\":\"80370\"},\"ticker\":{\"id\":\"80348\"}},\"id\":\"80347\",\"type\":\"LinearAxis\"},{\"attributes\":{},\"id\":\"80373\",\"type\":\"AllLabels\"},{\"attributes\":{},\"id\":\"80348\",\"type\":\"BasicTicker\"},{\"attributes\":{\"fill_alpha\":0.5,\"fill_color\":\"#30a2da\",\"hatch_alpha\":0.7,\"hatch_color\":\"#30a2da\",\"line_alpha\":0.7,\"x\":{\"field\":\"x\"},\"y\":{\"field\":\"y\"}},\"id\":\"80394\",\"type\":\"Patch\"},{\"attributes\":{\"axis\":{\"id\":\"80347\"},\"coordinates\":null,\"grid_line_color\":null,\"group\":null,\"ticker\":null},\"id\":\"80350\",\"type\":\"Grid\"},{\"attributes\":{\"fill_alpha\":0.5,\"fill_color\":\"#30a2da\",\"hatch_alpha\":0.7,\"hatch_color\":\"#30a2da\",\"line_alpha\":0.7,\"x\":{\"field\":\"x\"},\"y\":{\"field\":\"y\"}},\"id\":\"80377\",\"type\":\"Patch\"},{\"attributes\":{\"data\":{\"x\":{\"__ndarray__\":\"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\",\"dtype\":\"float64\",\"order\":\"little\",\"shape\":[200]},\"y\":{\"__ndarray__\":\"AAAAAAAAAAAAAAAAAAAAAAAAAAAAAAAAAAAAAAAAAAAAAAAAAAAAAAAAAAAAAAAAAAAAAAAAAAAAAAAAAAAAAAAAAAAAAAAAAAAAAAAAAAAAAAAAAAAAAAAAAAAAAAAAAAAAAAAAAAAAAAAAAAAAAAAAAAAAAAAAAAAAAAAAAAAAAAAAAAAAAAAAAAAAAAAAAAAAAAAAAAAAAAAAAAAAAAAAAAAAAAAAAAAAAAAAAAAAAAAAAAAAAAAAAAAAAAAAAAAAAAAAAAAAAAAAAAAAAAAAAAAAAAAAAAAAAAAAAAAAAAAAAAAAAAAAAAAAAAAAAAAAAAAAAAAAAAAAAAAAAAAAAAAAAAAAAAAAAAAAAAAAAAAAAAAAAAAAAAAAAAAAAAAAAAAAAAAAAAAAAAAAAAAAAAAAAAAAAAAAAAAAAAAAAAAAAAAAAAAAAAAAAAAAAAAAAAAAAAAAAAAAAAAAAAAAAAAAAAAAAAAAAAAAAAAAAAAAAAAAAAAAAAAAAAAAAAAAAAAAAAAAAAAAAAAAAAAAAAAAAAAAAAAAAAAAAAAAAAAAAAAAAAAAAAAAAAAAAAAAAAAAAAAAAAAAAAAAAAAAAAAAAAAAAAAAAAAAAAAAAAAAAAAAAAAAAAAAAAAAAAAAAAAAAAAAAAAAAAAAAAAAAAAAAAAAAAAAAAAAAAAAAAAAAAAAAAAAAAAAAAAAAAAAAAAAAAAAAAAAAAAAAAAAAAAAAAAAAAAAAAAAAAAAAAAAAAAAAAAAAAAAAAAAAAAAAAAAAAAAAAAAAAAAAAAAAAAAAAAAAAAAAAAAAAAAAAAAAAAAAAAAAAAAAAAAAAAAAAAAAAAAAAAAAAAAAAAAAAAAAAAAAAAAAAAAAAAAAAAAAAAAAAAAAAAAAAAAAAAAAAAAAAAAAAAAAAAAAAAAAAAAAAAAAAAAAAAAAAAAAAAAAAAAAAAAAAAAAAAAAAAAAAAAAAAAAAAAAAAAAAAAAAAAAAAAAAAAAAAAAAAAAAAAAAAAAAAAAAAAAAAAAAAAAAAAAAAAAAAAAAAAAAAAAAAAAAAAAAAAAAAAAAB078vSKlh0PrHEsN9P2qs+oOEzcvcTzz7xFLd1/kLcPjY9MVo38tQ+60N+ab9OuT7c0MWklCOKPncE9bOgbos+Xj+MHYmHvD6pFBtchFTZPpb7iuvLVOI+o+VQe9qg1T5eVexNyZ+1PnTPsnrAZLI+7NGaDCBW4D4UGziDvY/6PqZuTUAFnAE/6onYrZoH8z7NdCs0XMTQPlNPAlQqRZw+SxPvVfijsD4sccsd4ibaPrwelpq1FfE+BEmHoQzf8j6x0pAy8tjnPtIi/nZleus+qGSK1One8T6E1I8FLbbmPlMWlB+4p9E+S/oqLPKu0T6OlDFzZMfcPtLsbWbbO+Y+rDLQKXge9T46Gwofq5P3Pk5/SwNnI+c+LZQNZ0Ci0D4r8nZWnPnXPhrckOaEEug+iltH62uK8T6Ud/yR8CbwPl3dYWRVM+4+AZFYdYJW8j56n+scOkLuPs8RQVvhKOs+frAQuUdr9T7L/H5GEzL6Po5ZfHMw5vo+PEuxXdEQAD8+9h0OwAD8PkSmw/XVBOs+/ImBbQ1+3D4TiGAAGxfpPigIEDzdTQI/8pWJ1yRbFz/tC8lIk3cgP5YnxKV1Mhw/Ro5N4EqxFz8BpYzAl1QcP45MttX7ViE/IUPDCBF6Hj9NuXN7XZkXP4i8I4y0PRo/eLOf1oC9ID+NB1EJONwjP4ZQkqqMDCw/VcSWtro1Mj8pOYD9ZYUxP4iLVcUlgTA/oPtpixMwND+VxcqamYg3P3ITNU8pDTg/yYRm2vSWPD+MirTHEP1CP9/8s9lAIkg/NzhU/0luST8UzC0iF+5JP8xN1wUOw0w/98Qx2ExiSz/V7tpIl0ZHP7Kd75sGYk0/G6tHTCpCWD/q4i4UJiNfP/NJ2TaY52A/TgK572VYZD9j3d1BwOBpP5vNH6Ya9G8/fIW08TsHcj/uZJgCQzZzPwZfbacQQ3U/uXv9d74iej9ipZuNfr9+P7aL7eQ+jH8/3SFPlwE5fj+iiF1aV5p7Py6TN2HEM3Q/1FyIMy+FZD+k7ovlWVdQP85e/tf0YjQ/8PwH0Uj8DD8PSGUGIu7SPg==\",\"dtype\":\"float64\",\"order\":\"little\",\"shape\":[200]}},\"selected\":{\"id\":\"80375\"},\"selection_policy\":{\"id\":\"80389\"}},\"id\":\"80374\",\"type\":\"ColumnDataSource\"},{\"attributes\":{},\"id\":\"80352\",\"type\":\"BasicTicker\"},{\"attributes\":{\"axis_label\":\"density\",\"coordinates\":null,\"formatter\":{\"id\":\"80372\"},\"group\":null,\"major_label_policy\":{\"id\":\"80373\"},\"ticker\":{\"id\":\"80352\"}},\"id\":\"80351\",\"type\":\"LinearAxis\"},{\"attributes\":{},\"id\":\"80396\",\"type\":\"Selection\"},{\"attributes\":{\"fill_alpha\":0.5,\"fill_color\":\"#fc4f30\",\"hatch_alpha\":0.7,\"hatch_color\":\"#fc4f30\",\"line_alpha\":0.7,\"x\":{\"field\":\"x\"},\"y\":{\"field\":\"y\"}},\"id\":\"80398\",\"type\":\"Patch\"},{\"attributes\":{\"callback\":null,\"renderers\":[{\"id\":\"80380\"},{\"id\":\"80401\"},{\"id\":\"80423\"}],\"tags\":[\"hv_created\"],\"tooltips\":[[\"forecast_flag\",\"@{forecast_flag}\"],[\"unit_cost\",\"@{unit_cost}\"],[\"Density\",\"@{unit_cost_density}\"]]},\"id\":\"80335\",\"type\":\"HoverTool\"},{\"attributes\":{\"source\":{\"id\":\"80374\"}},\"id\":\"80381\",\"type\":\"CDSView\"},{\"attributes\":{},\"id\":\"80357\",\"type\":\"WheelZoomTool\"},{\"attributes\":{},\"id\":\"80355\",\"type\":\"SaveTool\"},{\"attributes\":{},\"id\":\"80375\",\"type\":\"Selection\"},{\"attributes\":{\"fill_alpha\":0.2,\"fill_color\":\"#30a2da\",\"hatch_alpha\":0.2,\"hatch_color\":\"#30a2da\",\"line_alpha\":0.2,\"x\":{\"field\":\"x\"},\"y\":{\"field\":\"y\"}},\"id\":\"80379\",\"type\":\"Patch\"},{\"attributes\":{\"end\":6225.188754332198,\"reset_end\":6225.188754332198,\"reset_start\":-164.61675433219872,\"start\":-164.61675433219872,\"tags\":[[[\"unit_cost\",\"unit_cost\",null]]]},\"id\":\"80333\",\"type\":\"Range1d\"},{\"attributes\":{\"overlay\":{\"id\":\"80360\"}},\"id\":\"80358\",\"type\":\"BoxZoomTool\"},{\"attributes\":{\"below\":[{\"id\":\"80347\"}],\"center\":[{\"id\":\"80350\"},{\"id\":\"80354\"},{\"id\":\"80392\"}],\"height\":400,\"left\":[{\"id\":\"80351\"}],\"margin\":[5,5,5,5],\"min_border_bottom\":10,\"min_border_left\":10,\"min_border_right\":10,\"min_border_top\":10,\"renderers\":[{\"id\":\"80380\"},{\"id\":\"80401\"},{\"id\":\"80423\"}],\"sizing_mode\":\"fixed\",\"title\":{\"id\":\"80339\"},\"toolbar\":{\"id\":\"80361\"},\"width\":800,\"x_range\":{\"id\":\"80333\"},\"x_scale\":{\"id\":\"80343\"},\"y_range\":{\"id\":\"80334\"},\"y_scale\":{\"id\":\"80345\"}},\"id\":\"80338\",\"subtype\":\"Figure\",\"type\":\"Plot\"},{\"attributes\":{\"data\":{\"x\":{\"__ndarray__\":\"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\",\"dtype\":\"float64\",\"order\":\"little\",\"shape\":[200]},\"y\":{\"__ndarray__\":\"AAAAAAAAAAAAAAAAAAAAAAAAAAAAAAAAAAAAAAAAAAAAAAAAAAAAAAAAAAAAAAAAAAAAAAAAAAAAAAAAAAAAAAAAAAAAAAAAAAAAAAAAAAAAAAAAAAAAAAAAAAAAAAAAAAAAAAAAAAAAAAAAAAAAAAAAAAAAAAAAAAAAAAAAAAAAAAAAAAAAAAAAAAAAAAAAAAAAAAAAAAAAAAAAAAAAAAAAAAAAAAAAAAAAAAAAAAAAAAAAAAAAAAAAAAAAAAAAAAAAAAAAAAAAAAAAAAAAAAAAAAAAAAAAAAAAAAAAAAAAAAAAAAAAAAAAAAAAAAAAAAAAAAAAAAAAAAAAAAAAAAAAAAAAAAAAAAAAAAAAAAAAAAAAAAAAAAAAAAAAAAAAAAAAAAAAAAAAAAAAAAAAAAAAAAAAAAAAAAAAAAAAAAAAAAAAAAAAAAAAAAAAAAAAAAAAAAAAAAAAAAAAAAAAAAAAAAAAAAAAAAAAAAAAAAAAAAAAAAAAAAAAAAAAAAAAAAAAAAAAAAAAAAAAAAAAAAAAAAAAAAAAAAAAAAAAAAAAAAAAAAAAAAAAAAAAAAAAAAAAAAAAAAAAAAAAAAAAAAAAAAAAAAAAAAAAAAAAAAAAAAAAAAAAAAAAAAAAAAAAAAAAAAAAAAAAAAAAAAAAAAAAAAAAAAAAAAAAAAAAAAAAAAAAAAAAAAAAAAAAAAAAAAAAAAAAAAAAAAAAAAAAAAAAAAAAAAAAAAAAAAAAAAAAAAAAAAAAAAAAAAAAAAAAAAAAAAAAAAAAAAAAAAAAAAAAAAAAAAAAAAAAAAAAAAAAAAAAAAAAAAAAAAAAAAAAAAAAAAAAAAAAAAAAAAAAAAAAAAAAAAAAAAAAAAAAAAAAAAAAAAAAAAAAAAAAAAAAAAAAAAAAAAAAAAAAAAAAAAAAAAAAAAAAAAAAAAAAAAAAAAAAAAAAAAAAAAAAAAAAAAAAAAAAAAAAAAAAAAAAAAAAAAAAAAAAAAAAAAAAAAAAAAAAAAAAAAAAAAAAAAAAAAAAAAAAAAAAAAAAAAAAAAAAAAAAAAAAAAAAAAAAAADZNtYDF8hzPk2mUhzWGLU+k4ZV67iP1j7Xi8MdhDHYPv/USDiwA7o+HgWVfIYMfD689iDnQlMePjfIDR4ecKA9iMD3pYneAT3hKShqdXpDPHX3I9ZUSmU7slWooaRVZzriUWd0GaVJOd9iZGvXQgw4uzUfT7Q6rzYgh/1WQ00xNWXCukRCOZMzpBcmbtpq1TF7SED9O+33L6nQcNmVzfotoDCWm3gb3isFEmUMp/SgKfaGbgl1JkMnHDZY1xywxSS5Rn9SDKEoIimRgmWqC2wfmtEBqfoCkByjFKERIlWSGa2oAckZDHUWty92V+Q6OBNdVHgfa/jbD5JXcT4tMGAM8VsMvxjKwgi4viv/SN4FBbA2yJ1whSkBPAAAAAAAAAAAAAAAAAAAAAAAAAAAAAAAAAAAAAAAAAAAAAAAAAAAAAAAAAAAAAAAAAAAAAAAAAAAAAAAAAAAAAAAAAAAAAAAAAAAAAAAAAAAAAAAAAAAAAAAAAAAAAAAywAAAAAAAABCYnko+uVEARDcLSxsPiEFCB0GpNqI3Ag+3zAtc6x3DP5KhJjHsfMPEAOymMxtUBMMxUaiDHyLFhXs8qaIDacZFPwy0HtjoxzSES0H81mAHy7razC8pzsioQvW6WBz1yRY/2jRlPBTJ3gjN6w2ALEpLiphysMR7SscytJPqOsILnuCgKoWbAUw3bWMZSB34jGIJXW3kuufM8eYc+Y5qjs1za96RuEKuDZYr7pulfMUOMsXCkjMTlI5sg3LfpsKcDouJFkJKjBsO5ugCnyI1Ug8hZq2m57wBT0MTT1ay3CjPcfsjbq3SyE+Cg3lgYkVfz6Yz4Zn6CG9PmjCUI5NkuA+7LMPXgGd8T6CqA5msa/5PivE+AFJofs+pSP7+3l7+j4C77EyiIwFP0IUWINJPAs/nJPOIxrWBz/Xs0ePUJISPwIbpNHhaCs/TQhgwY4KQT9bVAT3gHhIP9HzAfrCC0w/2xc1KaTMVT/4uEUqxF1lPxSYN+s1t3E/6cLNBfADbD/qpmCF4stQPwQdZSVVPB8/bWp6U00I3j7KhTrLOA6RPg==\",\"dtype\":\"float64\",\"order\":\"little\",\"shape\":[200]}},\"selected\":{\"id\":\"80396\"},\"selection_policy\":{\"id\":\"80412\"}},\"id\":\"80395\",\"type\":\"ColumnDataSource\"},{\"attributes\":{},\"id\":\"80359\",\"type\":\"ResetTool\"},{\"attributes\":{\"label\":{\"value\":\"good\"},\"renderers\":[{\"id\":\"80380\"}]},\"id\":\"80393\",\"type\":\"LegendItem\"},{\"attributes\":{\"bottom_units\":\"screen\",\"coordinates\":null,\"fill_alpha\":0.5,\"fill_color\":\"lightgrey\",\"group\":null,\"left_units\":\"screen\",\"level\":\"overlay\",\"line_alpha\":1.0,\"line_color\":\"black\",\"line_dash\":[4,4],\"line_width\":2,\"right_units\":\"screen\",\"syncable\":false,\"top_units\":\"screen\"},\"id\":\"80360\",\"type\":\"BoxAnnotation\"},{\"attributes\":{\"children\":[{\"id\":\"80332\"},{\"id\":\"80338\"},{\"id\":\"80553\"}],\"margin\":[0,0,0,0],\"name\":\"Row187505\",\"tags\":[\"embedded\"]},\"id\":\"80331\",\"type\":\"Row\"},{\"attributes\":{\"tools\":[{\"id\":\"80335\"},{\"id\":\"80355\"},{\"id\":\"80356\"},{\"id\":\"80357\"},{\"id\":\"80358\"},{\"id\":\"80359\"}]},\"id\":\"80361\",\"type\":\"Toolbar\"},{\"attributes\":{\"coordinates\":null,\"data_source\":{\"id\":\"80374\"},\"glyph\":{\"id\":\"80377\"},\"group\":null,\"hover_glyph\":null,\"muted_glyph\":{\"id\":\"80379\"},\"nonselection_glyph\":{\"id\":\"80378\"},\"selection_glyph\":{\"id\":\"80394\"},\"view\":{\"id\":\"80381\"}},\"id\":\"80380\",\"type\":\"GlyphRenderer\"},{\"attributes\":{\"fill_alpha\":0.5,\"fill_color\":\"#30a2da\",\"hatch_alpha\":0.1,\"hatch_color\":\"#30a2da\",\"line_alpha\":0.7,\"x\":{\"field\":\"x\"},\"y\":{\"field\":\"y\"}},\"id\":\"80378\",\"type\":\"Patch\"},{\"attributes\":{\"margin\":[5,5,5,5],\"name\":\"HSpacer187509\",\"sizing_mode\":\"stretch_width\"},\"id\":\"80332\",\"type\":\"Spacer\"}],\"root_ids\":[\"80331\"]},\"title\":\"Bokeh Application\",\"version\":\"2.4.3\"}};\n",
       "    var render_items = [{\"docid\":\"c2a370b3-44e2-4fa2-a567-816d928b0108\",\"root_ids\":[\"80331\"],\"roots\":{\"80331\":\"051376d1-976b-4574-9cb3-c6c58ed25d4c\"}}];\n",
       "    root.Bokeh.embed.embed_items_notebook(docs_json, render_items);\n",
       "  }\n",
       "  if (root.Bokeh !== undefined && root.Bokeh.Panel !== undefined) {\n",
       "    embed_document(root);\n",
       "  } else {\n",
       "    var attempts = 0;\n",
       "    var timer = setInterval(function(root) {\n",
       "      if (root.Bokeh !== undefined && root.Bokeh.Panel !== undefined) {\n",
       "        clearInterval(timer);\n",
       "        embed_document(root);\n",
       "      } else if (document.readyState == \"complete\") {\n",
       "        attempts++;\n",
       "        if (attempts > 200) {\n",
       "          clearInterval(timer);\n",
       "          console.log(\"Bokeh: ERROR: Unable to run BokehJS code because BokehJS library is missing\");\n",
       "        }\n",
       "      }\n",
       "    }, 25, root)\n",
       "  }\n",
       "})(window);</script>"
      ],
      "text/plain": [
       ":NdOverlay   [forecast_flag]\n",
       "   :Distribution   [unit_cost]   (Density)"
      ]
     },
     "execution_count": 46,
     "metadata": {
      "application/vnd.holoviews_exec.v0+json": {
       "id": "80331"
      }
     },
     "output_type": "execute_result"
    }
   ],
   "source": [
    "residual_analysis.hvplot.kde(y=\"unit_cost\",by=\"forecast_flag\", ## Grouping by Predictions\n",
    "                                width=800, height=400,\n",
    "                                alpha=0.7,\n",
    "                                ylabel=\"density\",\n",
    "                                xlabel=\"unit_cost\",\n",
    "                                title=f'unit cost(density)',legend='top_right')"
   ]
  },
  {
   "cell_type": "markdown",
   "metadata": {},
   "source": [
    "- From the above plot we can infer that the higher \"over predictions\" are happening for unit_cost > 200.\n",
    "- similarly, the higher \"under predictions\" are happening for unit_cost is zero.\n",
    "\n",
    "This can help us tune the model by a separate model for unit_cost > 200\n"
   ]
  },
  {
   "cell_type": "markdown",
   "metadata": {},
   "source": [
    "# 4.2 Modelling - XGBoost"
   ]
  },
  {
   "cell_type": "markdown",
   "metadata": {},
   "source": [
    "## 4.2.1 Model training pipeline\n",
    "\n",
    "Here we focus on creating a collection of pipelines that can be used for tranining respective models.\n",
    "\n",
    "Each model pipeline will essentially be of the form\n",
    "```\n",
    "[\n",
    "('preprocessing', preprocessing_pipeline),\n",
    "('feature_selection', feature_selection_pipeline),\n",
    "('estimator', estimator),\n",
    "]\n",
    "```"
   ]
  },
  {
   "cell_type": "markdown",
   "metadata": {},
   "source": [
    "### 4.2.2 Model Pipeline Build"
   ]
  },
  {
   "cell_type": "code",
   "execution_count": 47,
   "metadata": {},
   "outputs": [
    {
     "data": {
      "text/plain": [
       "Pipeline(steps=[('XGBoost',\n",
       "                 XGBRegressor(base_score=0.5, booster='gbtree',\n",
       "                              colsample_bylevel=1, colsample_bynode=1,\n",
       "                              colsample_bytree=1, enable_categorical=False,\n",
       "                              gamma=0, gpu_id=-1, importance_type=None,\n",
       "                              interaction_constraints='',\n",
       "                              learning_rate=0.300000012, max_delta_step=0,\n",
       "                              max_depth=6, min_child_weight=1, missing=nan,\n",
       "                              monotone_constraints='()', n_estimators=100,\n",
       "                              n_jobs=8, num_parallel_tree=1, predictor='auto',\n",
       "                              random_state=0, reg_alpha=0, reg_lambda=1,\n",
       "                              scale_pos_weight=1, subsample=1,\n",
       "                              tree_method='exact', validate_parameters=1,\n",
       "                              verbosity=None))])"
      ]
     },
     "execution_count": 47,
     "metadata": {},
     "output_type": "execute_result"
    }
   ],
   "source": [
    "# let's find features for some decent defaults\n",
    "estimator = XGBRegressor()\n",
    "xgb_training_pipe_init = Pipeline([\n",
    "    ('XGBoost', XGBRegressor())\n",
    "])\n",
    "xgb_training_pipe_init.fit(train_X, train_y)"
   ]
  },
  {
   "cell_type": "markdown",
   "metadata": {},
   "source": [
    "### 4.2.3 Model Tuning"
   ]
  },
  {
   "cell_type": "code",
   "execution_count": 48,
   "metadata": {},
   "outputs": [
    {
     "data": {
      "text/plain": [
       "<AxesSubplot:>"
      ]
     },
     "execution_count": 48,
     "metadata": {},
     "output_type": "execute_result"
    },
    {
     "data": {
      "image/png": "[encoded data removed]",
      "text/plain": [
       "<Figure size 432x288 with 1 Axes>"
      ]
     },
     "metadata": {
      "needs_background": "light"
     },
     "output_type": "display_data"
    }
   ],
   "source": [
    "# Understanding the Feature Importance\n",
    "%matplotlib inline\n",
    "imp = pd.DataFrame({'importance': xgb_training_pipe_init['XGBoost'].feature_importances_})\n",
    "imp.index = train_X.columns\n",
    "imp.sort_values('importance',inplace=True)\n",
    "imp.plot(kind='barh')"
   ]
  },
  {
   "cell_type": "markdown",
   "metadata": {},
   "source": [
    "'condition','model_family','days_since_last_purchase','first_time_customer','sales_person', are considered to be important and in grid search"
   ]
  },
  {
   "cell_type": "markdown",
   "metadata": {},
   "source": [
    "##### Pipeline build based on new importance features"
   ]
  },
  {
   "cell_type": "code",
   "execution_count": 49,
   "metadata": {},
   "outputs": [],
   "source": [
    "# let's find features for some decent defaults\n",
    "imp_features = ['model_family','sku','unit_cost','condition','brand','business_unit']\n",
    "\n",
    "estimator = XGBRegressor()\n",
    "xgb_training_pipe2 = Pipeline([\n",
    "    ('', FunctionTransformer(_custom_data_transform, kw_args={'cols2keep':imp_features})),\n",
    "    ('XGBoost', XGBRegressor())\n",
    "])"
   ]
  },
  {
   "cell_type": "markdown",
   "metadata": {},
   "source": [
    "#### Grid Search of the Estimator"
   ]
  },
  {
   "cell_type": "code",
   "execution_count": 50,
   "metadata": {},
   "outputs": [
    {
     "name": "stdout",
     "output_type": "stream",
     "text": [
      "Fitting 2 folds for each of 1 candidates, totalling 2 fits\n"
     ]
    },
    {
     "name": "stderr",
     "output_type": "stream",
     "text": [
      "/home/shashank1/miniconda3/envs/ta-lib-dev/lib/python3.9/site-packages/xgboost/compat.py:36: FutureWarning: pandas.Int64Index is deprecated and will be removed from pandas in a future version. Use pandas.Index with the appropriate dtype instead.\n",
      "  from pandas import MultiIndex, Int64Index\n",
      "/home/shashank1/miniconda3/envs/ta-lib-dev/lib/python3.9/site-packages/xgboost/compat.py:36: FutureWarning: pandas.Int64Index is deprecated and will be removed from pandas in a future version. Use pandas.Index with the appropriate dtype instead.\n",
      "  from pandas import MultiIndex, Int64Index\n",
      "/home/shashank1/miniconda3/envs/ta-lib-dev/lib/python3.9/site-packages/xgboost/data.py:262: FutureWarning: pandas.Int64Index is deprecated and will be removed from pandas in a future version. Use pandas.Index with the appropriate dtype instead.\n",
      "  elif isinstance(data.columns, (pd.Int64Index, pd.RangeIndex)):\n",
      "/home/shashank1/miniconda3/envs/ta-lib-dev/lib/python3.9/site-packages/xgboost/data.py:262: FutureWarning: pandas.Int64Index is deprecated and will be removed from pandas in a future version. Use pandas.Index with the appropriate dtype instead.\n",
      "  elif isinstance(data.columns, (pd.Int64Index, pd.RangeIndex)):\n"
     ]
    },
    {
     "name": "stdout",
     "output_type": "stream",
     "text": [
      "0.9764957899605351\n",
      "{'gamma': 0.03, 'learning_rate': 0.1, 'max_depth': 3, 'min_child_weight': 6, 'n_estimators': 500}\n",
      "CPU times: user 1min 29s, sys: 327 ms, total: 1min 30s\n",
      "Wall time: 5min 15s\n"
     ]
    }
   ],
   "source": [
    "%%time\n",
    "parameters = {\n",
    "   'gamma':[0.03],\n",
    "   'min_child_weight':[6],\n",
    "   'learning_rate':[0.1],\n",
    "   'max_depth':[3],\n",
    "   'n_estimators':[500], \n",
    "}\n",
    "est = XGBRegressor()\n",
    "xgb_grid = GridSearchCV(est,\n",
    "                        parameters,\n",
    "                        cv = 2,\n",
    "                        n_jobs = 4,\n",
    "                        verbose=True)\n",
    "\n",
    "xgb_grid.fit(train_X, train_y)\n",
    "\n",
    "print(xgb_grid.best_score_)\n",
    "print(xgb_grid.best_params_)"
   ]
  },
  {
   "cell_type": "markdown",
   "metadata": {},
   "source": [
    "#### Pipeline Build using the best estimator"
   ]
  },
  {
   "cell_type": "code",
   "execution_count": 51,
   "metadata": {},
   "outputs": [
    {
     "data": {
      "text/plain": [
       "Pipeline(steps=[('',\n",
       "                 FunctionTransformer(func=<function _custom_data_transform at 0x7fd680ea2d30>,\n",
       "                                     kw_args={'cols2keep': ['model_family',\n",
       "                                                            'sku', 'unit_cost',\n",
       "                                                            'condition',\n",
       "                                                            'brand',\n",
       "                                                            'business_unit']})),\n",
       "                ('XGBoost',\n",
       "                 XGBRegressor(base_score=0.5, booster='gbtree',\n",
       "                              colsample_bylevel=1, colsample_bynode=1,\n",
       "                              colsample_bytree=1, enable_categorical=False,\n",
       "                              gamma=0.03, gpu_id=-1, importance_type=None,\n",
       "                              interaction_constraints='', learning_rate=0.1,\n",
       "                              max_delta_step=0, max_depth=3, min_child_weight=6,\n",
       "                              missing=nan, monotone_constraints='()',\n",
       "                              n_estimators=500, n_jobs=8, num_parallel_tree=1,\n",
       "                              predictor='auto', random_state=0, reg_alpha=0,\n",
       "                              reg_lambda=1, scale_pos_weight=1, subsample=1,\n",
       "                              tree_method='exact', validate_parameters=1,\n",
       "                              verbosity=None))])"
      ]
     },
     "execution_count": 51,
     "metadata": {},
     "output_type": "execute_result"
    }
   ],
   "source": [
    "xgb_pipeline_final = Pipeline([\n",
    "    ('', FunctionTransformer(_custom_data_transform, kw_args={'cols2keep':imp_features})),\n",
    "    ('XGBoost', xgb_grid.best_estimator_)\n",
    "])\n",
    "xgb_pipeline_final.fit(train_X, train_y)"
   ]
  },
  {
   "cell_type": "code",
   "execution_count": 52,
   "metadata": {},
   "outputs": [
    {
     "name": "stderr",
     "output_type": "stream",
     "text": [
      "Attribute `_pairwise` was deprecated in version 0.24 and will be removed in 1.1 (renaming of 0.26).\n",
      "divide by zero encountered in true_divide\n",
      "divide by zero encountered in true_divide\n",
      "2022-07-25 12:04:54 - WARNING - tigerml.model_eval.plotters.interpretation::get_errorbucket_profiles::849 - Residual Analysis: Ignoring 17 observations in train data for error analysis where y=0\n",
      "2022-07-25 12:04:54 - WARNING - tigerml.model_eval.plotters.interpretation::get_errorbucket_profiles::866 - Residual Analysis: Ignoring 7 observations in test data for error analysis where y=0\n",
      "this method is deprecated in favour of `Styler.to_html()`\n"
     ]
    }
   ],
   "source": [
    "reg_tree_report = RegressionReport(model=xgb_pipeline_final, x_train=train_X, y_train=train_y, x_test= test_X, y_test= test_y)\n",
    "reg_tree_report.get_report(include_shap=False, file_path='regression_tree_model_report')"
   ]
  },
  {
   "cell_type": "markdown",
   "metadata": {},
   "source": [
    "The Regression report containing the feature importances are available [here](https://drive.google.com/file/d/1JBfL3uxPcxBfl0amweXBFmLr7CSHFBUO/view?usp=sharing)"
   ]
  },
  {
   "cell_type": "markdown",
   "metadata": {},
   "source": [
    "# 5 Model Comparison"
   ]
  },
  {
   "cell_type": "markdown",
   "metadata": {},
   "source": [
    "Now, a comparison report of the  linear (vs) tree -based model  approach can be generated as follows.\n",
    "\n",
    "This code will not be part of the production code."
   ]
  },
  {
   "cell_type": "code",
   "execution_count": 53,
   "metadata": {},
   "outputs": [],
   "source": [
    "predicted_reg = reg_ppln_ols.predict(test_X)\n",
    "predicted_xgboost = xgb_pipeline_final.predict(test_X)"
   ]
  },
  {
   "cell_type": "code",
   "execution_count": 55,
   "metadata": {},
   "outputs": [
    {
     "name": "stderr",
     "output_type": "stream",
     "text": [
      "`rcond` parameter will change to the default of machine precision times ``max(M, N)`` where M and N are the input matrix dimensions.\n",
      "To use the future default and silence this warning we advise to pass `rcond=None`, to keep using the old, explicitly pass `rcond=-1`.\n",
      "`rcond` parameter will change to the default of machine precision times ``max(M, N)`` where M and N are the input matrix dimensions.\n",
      "To use the future default and silence this warning we advise to pass `rcond=None`, to keep using the old, explicitly pass `rcond=-1`.\n",
      "this method is deprecated in favour of `Styler.to_html()`\n"
     ]
    }
   ],
   "source": [
    "model_pipelines = [reg_ppln, xgb_pipeline_final]\n",
    "model_comparison_report = RegressionComparison(y = test_y , yhats={\"Linear Regression\":predicted_reg, \"xgboost\":predicted_xgboost})\n",
    "metrics = model_comparison_report.get_report(file_path='regression_comparison')"
   ]
  },
  {
   "cell_type": "code",
   "execution_count": 66,
   "metadata": {},
   "outputs": [
    {
     "data": {
      "text/html": [
       "<div>\n",
       "<style scoped>\n",
       "    .dataframe tbody tr th:only-of-type {\n",
       "        vertical-align: middle;\n",
       "    }\n",
       "\n",
       "    .dataframe tbody tr th {\n",
       "        vertical-align: top;\n",
       "    }\n",
       "\n",
       "    .dataframe thead th {\n",
       "        text-align: right;\n",
       "    }\n",
       "</style>\n",
       "<table border=\"1\" class=\"dataframe\">\n",
       "  <thead>\n",
       "    <tr style=\"text-align: right;\">\n",
       "      <th>metric</th>\n",
       "      <th>MAPE</th>\n",
       "      <th>WMAPE</th>\n",
       "      <th>MAE</th>\n",
       "      <th>RMSE</th>\n",
       "      <th>R^2</th>\n",
       "    </tr>\n",
       "  </thead>\n",
       "  <tbody>\n",
       "    <tr>\n",
       "      <th>Linear Regression</th>\n",
       "      <td>0.3194</td>\n",
       "      <td>0.1806</td>\n",
       "      <td>24.4018</td>\n",
       "      <td>40.6978</td>\n",
       "      <td>0.8697</td>\n",
       "    </tr>\n",
       "    <tr>\n",
       "      <th>xgboost</th>\n",
       "      <td>0.1161</td>\n",
       "      <td>0.0832</td>\n",
       "      <td>11.2387</td>\n",
       "      <td>19.3752</td>\n",
       "      <td>0.9705</td>\n",
       "    </tr>\n",
       "  </tbody>\n",
       "</table>\n",
       "</div>"
      ],
      "text/plain": [
       "metric               MAPE   WMAPE      MAE     RMSE     R^2\n",
       "Linear Regression  0.3194  0.1806  24.4018  40.6978  0.8697\n",
       "xgboost            0.1161  0.0832  11.2387  19.3752  0.9705"
      ]
     },
     "execution_count": 66,
     "metadata": {},
     "output_type": "execute_result"
    }
   ],
   "source": [
    "model_comparison_report.performance_metrics"
   ]
  },
  {
   "cell_type": "markdown",
   "metadata": {},
   "source": [
    "A report comparing the performance, metrics between Linear model and Tree model are available [here](https://drive.google.com/file/d/1LDibiFap9K4DKME-Y0S0mtI_05lTdaJF/view?usp=sharing)"
   ]
  },
  {
   "cell_type": "markdown",
   "metadata": {},
   "source": [
    "**Dev NOTES**\n",
    "<details>\n",
    "\n",
    "the above metrics are absolute nos and not %ges"
   ]
  },
  {
   "cell_type": "markdown",
   "metadata": {},
   "source": [
    "In this example we are choosing LM model for pipelining. General criteria for choosing production models is:\n",
    "\n",
    "- Parametric models (aka whitebox models) such as Linear Regression are easier to explain to non-technical audience.\n",
    "- Generally these are accepted fast and adoption is quicker.\n",
    "- If the downstream calls for optimization using these models parametric models are easier to implement.\n",
    "- When accuracy is primary goal without explainability, the above two takes a backseat"
   ]
  },
  {
   "cell_type": "code",
   "execution_count": null,
   "metadata": {},
   "outputs": [],
   "source": []
  }
 ],
 "metadata": {
  "kernelspec": {
   "display_name": "Python 3 (ipykernel)",
   "language": "python",
   "name": "python3"
  },
  "language_info": {
   "codemirror_mode": {
    "name": "ipython",
    "version": 3
   },
   "file_extension": ".py",
   "mimetype": "text/x-python",
   "name": "python",
   "nbconvert_exporter": "python",
   "pygments_lexer": "ipython3",
   "version": "3.9.13"
  }
 },
 "nbformat": 4,
 "nbformat_minor": 4
}
